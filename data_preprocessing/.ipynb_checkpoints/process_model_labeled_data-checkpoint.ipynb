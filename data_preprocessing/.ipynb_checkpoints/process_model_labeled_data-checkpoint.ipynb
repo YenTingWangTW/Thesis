{
 "cells": [
  {
   "cell_type": "code",
   "execution_count": 1,
   "id": "d1d320a4",
   "metadata": {},
   "outputs": [],
   "source": [
    "import glob\n",
    "import json\n",
    "import os\n",
    "import re\n",
    "import numpy as np"
   ]
  },
  {
   "cell_type": "code",
   "execution_count": 2,
   "id": "b45579e4",
   "metadata": {},
   "outputs": [
    {
     "name": "stdout",
     "output_type": "stream",
     "text": [
      "CPU times: user 764 ms, sys: 1.27 s, total: 2.03 s\n",
      "Wall time: 10.2 s\n"
     ]
    }
   ],
   "source": [
    "%%time\n",
    "\n",
    "filtered_data = []\n",
    "\n",
    "for f in glob.glob('../../thesis_data/bpmai/models/*.meta.json'):\n",
    "    with open(f) as jsonFiles:\n",
    "        data = json.load(jsonFiles)\n",
    "        if data['model']['naturalLanguage'] == 'en' and not data['model']['modelName'].isdigit():\n",
    "            filtered_data.append(data)"
   ]
  },
  {
   "cell_type": "code",
   "execution_count": 3,
   "id": "5aeb7a74",
   "metadata": {},
   "outputs": [
    {
     "name": "stdout",
     "output_type": "stream",
     "text": [
      "4615\n",
      "876\n"
     ]
    }
   ],
   "source": [
    "bpmn20 = [x for x in filtered_data if x['model']['modelingLanguage'] == 'bpmn20']\n",
    "epc = [x for x in filtered_data if x['model']['modelingLanguage'] == 'epc']\n",
    "print(len(bpmn20))\n",
    "print(len(epc))"
   ]
  },
  {
   "cell_type": "code",
   "execution_count": 4,
   "id": "8c1119bf",
   "metadata": {},
   "outputs": [
    {
     "name": "stdout",
     "output_type": "stream",
     "text": [
      "2520\n",
      "531\n"
     ]
    }
   ],
   "source": [
    "bpmn20_filtered = [x for x in bpmn20 if ('Task' in x['revision']['elementCounts'].keys()) and x['revision']['elementCounts']['Task'] >= 5 and x['revision']['elementCounts']['Task'] <= 15]\n",
    "epc_filtered = [x for x in epc if ('Function' in x['revision']['elementCounts'].keys()) and x['revision']['elementCounts']['Function'] >= 5 and x['revision']['elementCounts']['Function'] <= 15]\n",
    "print(len(bpmn20_filtered))\n",
    "print(len(epc_filtered))"
   ]
  },
  {
   "cell_type": "code",
   "execution_count": 5,
   "id": "2d67a6af",
   "metadata": {},
   "outputs": [],
   "source": [
    "# text preprocessing - all decap"
   ]
  },
  {
   "cell_type": "code",
   "execution_count": 6,
   "id": "76502063",
   "metadata": {},
   "outputs": [
    {
     "name": "stdout",
     "output_type": "stream",
     "text": [
      "HW1\n"
     ]
    },
    {
     "ename": "KeyboardInterrupt",
     "evalue": "Interrupted by user",
     "output_type": "error",
     "traceback": [
      "\u001b[0;31m---------------------------------------------------------------------------\u001b[0m",
      "\u001b[0;31mKeyboardInterrupt\u001b[0m                         Traceback (most recent call last)",
      "\u001b[0;32m/var/folders/wn/y90bwflx3dd_bf70j8_n0z_r0000gn/T/ipykernel_14989/18825084.py\u001b[0m in \u001b[0;36m<module>\u001b[0;34m\u001b[0m\n\u001b[1;32m     19\u001b[0m     \u001b[0mprint\u001b[0m\u001b[0;34m(\u001b[0m\u001b[0mname\u001b[0m\u001b[0;34m)\u001b[0m\u001b[0;34m\u001b[0m\u001b[0;34m\u001b[0m\u001b[0m\n\u001b[1;32m     20\u001b[0m \u001b[0;34m\u001b[0m\u001b[0m\n\u001b[0;32m---> 21\u001b[0;31m     \u001b[0mcheck_model\u001b[0m \u001b[0;34m=\u001b[0m \u001b[0minput\u001b[0m\u001b[0;34m(\u001b[0m\u001b[0;34m'check model?  '\u001b[0m\u001b[0;34m)\u001b[0m\u001b[0;34m\u001b[0m\u001b[0;34m\u001b[0m\u001b[0m\n\u001b[0m\u001b[1;32m     22\u001b[0m     \u001b[0;32mif\u001b[0m \u001b[0mcheck_model\u001b[0m \u001b[0;34m==\u001b[0m \u001b[0;34m'y'\u001b[0m\u001b[0;34m:\u001b[0m\u001b[0;34m\u001b[0m\u001b[0;34m\u001b[0m\u001b[0m\n\u001b[1;32m     23\u001b[0m         \u001b[0mfile_num\u001b[0m \u001b[0;34m=\u001b[0m \u001b[0mm\u001b[0m\u001b[0;34m[\u001b[0m\u001b[0;34m'model'\u001b[0m\u001b[0;34m]\u001b[0m\u001b[0;34m[\u001b[0m\u001b[0;34m'modelId'\u001b[0m\u001b[0;34m]\u001b[0m\u001b[0;34m\u001b[0m\u001b[0;34m\u001b[0m\u001b[0m\n",
      "\u001b[0;32m~/opt/anaconda3/lib/python3.9/site-packages/ipykernel/kernelbase.py\u001b[0m in \u001b[0;36mraw_input\u001b[0;34m(self, prompt)\u001b[0m\n\u001b[1;32m   1004\u001b[0m                 \u001b[0;34m\"raw_input was called, but this frontend does not support input requests.\"\u001b[0m\u001b[0;34m\u001b[0m\u001b[0;34m\u001b[0m\u001b[0m\n\u001b[1;32m   1005\u001b[0m             )\n\u001b[0;32m-> 1006\u001b[0;31m         return self._input_request(\n\u001b[0m\u001b[1;32m   1007\u001b[0m             \u001b[0mstr\u001b[0m\u001b[0;34m(\u001b[0m\u001b[0mprompt\u001b[0m\u001b[0;34m)\u001b[0m\u001b[0;34m,\u001b[0m\u001b[0;34m\u001b[0m\u001b[0;34m\u001b[0m\u001b[0m\n\u001b[1;32m   1008\u001b[0m             \u001b[0mself\u001b[0m\u001b[0;34m.\u001b[0m\u001b[0m_parent_ident\u001b[0m\u001b[0;34m[\u001b[0m\u001b[0;34m\"shell\"\u001b[0m\u001b[0;34m]\u001b[0m\u001b[0;34m,\u001b[0m\u001b[0;34m\u001b[0m\u001b[0;34m\u001b[0m\u001b[0m\n",
      "\u001b[0;32m~/opt/anaconda3/lib/python3.9/site-packages/ipykernel/kernelbase.py\u001b[0m in \u001b[0;36m_input_request\u001b[0;34m(self, prompt, ident, parent, password)\u001b[0m\n\u001b[1;32m   1049\u001b[0m             \u001b[0;32mexcept\u001b[0m \u001b[0mKeyboardInterrupt\u001b[0m\u001b[0;34m:\u001b[0m\u001b[0;34m\u001b[0m\u001b[0;34m\u001b[0m\u001b[0m\n\u001b[1;32m   1050\u001b[0m                 \u001b[0;31m# re-raise KeyboardInterrupt, to truncate traceback\u001b[0m\u001b[0;34m\u001b[0m\u001b[0;34m\u001b[0m\u001b[0m\n\u001b[0;32m-> 1051\u001b[0;31m                 \u001b[0;32mraise\u001b[0m \u001b[0mKeyboardInterrupt\u001b[0m\u001b[0;34m(\u001b[0m\u001b[0;34m\"Interrupted by user\"\u001b[0m\u001b[0;34m)\u001b[0m \u001b[0;32mfrom\u001b[0m \u001b[0;32mNone\u001b[0m\u001b[0;34m\u001b[0m\u001b[0;34m\u001b[0m\u001b[0m\n\u001b[0m\u001b[1;32m   1052\u001b[0m             \u001b[0;32mexcept\u001b[0m \u001b[0mException\u001b[0m\u001b[0;34m:\u001b[0m\u001b[0;34m\u001b[0m\u001b[0;34m\u001b[0m\u001b[0m\n\u001b[1;32m   1053\u001b[0m                 \u001b[0mself\u001b[0m\u001b[0;34m.\u001b[0m\u001b[0mlog\u001b[0m\u001b[0;34m.\u001b[0m\u001b[0mwarning\u001b[0m\u001b[0;34m(\u001b[0m\u001b[0;34m\"Invalid Message:\"\u001b[0m\u001b[0;34m,\u001b[0m \u001b[0mexc_info\u001b[0m\u001b[0;34m=\u001b[0m\u001b[0;32mTrue\u001b[0m\u001b[0;34m)\u001b[0m\u001b[0;34m\u001b[0m\u001b[0;34m\u001b[0m\u001b[0m\n",
      "\u001b[0;31mKeyboardInterrupt\u001b[0m: Interrupted by user"
     ]
    }
   ],
   "source": [
    "from IPython.display import clear_output\n",
    "from os import path\n",
    "import webbrowser\n",
    "\n",
    "last_item = None\n",
    "filtered_epc = {}\n",
    "with open(\"filtered_epc.json\", \"r+\") as file:\n",
    "    data = json.load(file)\n",
    "    if len(data) > 0:\n",
    "        last_item = data['num']\n",
    "\n",
    "for i, m in enumerate(epc_filtered):\n",
    "    if last_item:\n",
    "        if last_item <= i:\n",
    "            continue\n",
    "            \n",
    "    clear_output(wait=True)\n",
    "    name = m['model']['modelName']\n",
    "    print(name)\n",
    "\n",
    "    check_model = input('check model?  ')\n",
    "    if check_model == 'y':\n",
    "        file_num = m['model']['modelId']\n",
    "        file = 'file:///Users/I543118/Desktop/thesis_data/bpmai/models/'+file_num+'.svg'\n",
    "        webbrowser.open_new_tab(file)\n",
    "\n",
    "        verified_name = input('keep model and give name?  ')\n",
    "        if not verified_name == None:\n",
    "            filtered_epc.update({'num': i, file_num: verified_name})\n",
    "\n",
    "    if i % 10 == 0:\n",
    "        with open(\"filtered_epc.json\", \"r+\") as file:\n",
    "            data = json.load(file)\n",
    "            data.update(filtered_epc)\n",
    "            file.seek(0)\n",
    "            json.dump(data, file)\n",
    "            filtered_epc = {}\n",
    "            "
   ]
  },
  {
   "cell_type": "code",
   "execution_count": null,
   "id": "71e8cbc4",
   "metadata": {},
   "outputs": [],
   "source": [
    "# # with pools and lanes\n",
    "# file_num = '448828966'\n",
    "# file = '/Users/yen-ting.wang/Desktop/Thesis/data/bpmai/models/' + file_num + '.json'\n",
    "# results = load_JSON(file)\n",
    "# shapes_id = results[0]\n",
    "# directly_follows = results[1]\n",
    "# lanes = results[2]\n",
    "# pools = results[3]"
   ]
  }
 ],
 "metadata": {
  "kernelspec": {
   "display_name": "Python 3 (ipykernel)",
   "language": "python",
   "name": "python3"
  },
  "language_info": {
   "codemirror_mode": {
    "name": "ipython",
    "version": 3
   },
   "file_extension": ".py",
   "mimetype": "text/x-python",
   "name": "python",
   "nbconvert_exporter": "python",
   "pygments_lexer": "ipython3",
   "version": "3.9.7"
  }
 },
 "nbformat": 4,
 "nbformat_minor": 5
}
