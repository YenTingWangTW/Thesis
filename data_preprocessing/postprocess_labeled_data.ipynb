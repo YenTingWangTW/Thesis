{
 "cells": [
  {
   "cell_type": "code",
   "execution_count": 2,
   "id": "791211e0",
   "metadata": {},
   "outputs": [],
   "source": [
    "import json\n",
    "from fuzzywuzzy import fuzz, process\n",
    "from IPython.display import clear_output\n",
    "\n",
    "from processing_functions import load_JSON, sort_process_flows "
   ]
  },
  {
   "cell_type": "code",
   "execution_count": 2,
   "id": "fc737939",
   "metadata": {},
   "outputs": [],
   "source": [
    "with open('filtered_no_pool_final.json', 'r') as f:\n",
    "    data_no_pool = json.load(f)"
   ]
  },
  {
   "cell_type": "code",
   "execution_count": 12,
   "id": "ddd021b0",
   "metadata": {},
   "outputs": [
    {
     "name": "stdout",
     "output_type": "stream",
     "text": [
      "359\n",
      "manage compliance 578172883\n"
     ]
    }
   ],
   "source": [
    "all_labels = list(data_no_pool.values())\n",
    "choices = list(all_labels.copy())\n",
    "inv_map_labels = {v: k for k, v in data_no_pool.items()}\n",
    "discard_all = []\n",
    "i = 0\n",
    "for key, label in data_no_pool.items():\n",
    "    clear_output(wait=True)\n",
    "    print(i)\n",
    "    if label in choices:\n",
    "        choices.remove(label)\n",
    "        high_sim = process.extract(label, choices, scorer=fuzz.token_sort_ratio, limit=5)\n",
    "        keys = [inv_map_labels[v] for (v, s) in high_sim]\n",
    "        print(label, key)\n",
    "        for (v, s), k in zip(high_sim, keys):\n",
    "            print(v, k)\n",
    "        discard = input('discard: ')\n",
    "        if discard != '':\n",
    "            discard = discard.split(\", \")\n",
    "            discard_all += discard\n",
    "            for d in discard:\n",
    "                l = data_no_pool[d]\n",
    "                if l != label:\n",
    "                    choices.remove(l)\n",
    "    i += 1"
   ]
  },
  {
   "cell_type": "code",
   "execution_count": 4,
   "id": "5bcb2812",
   "metadata": {},
   "outputs": [],
   "source": [
    "# with open('filtered_labels.json', 'r') as f:\n",
    "#     data = json.load(f)\n",
    "#     print(len(data))\n",
    "# for d in discard_all:\n",
    "#     data.pop(d)\n",
    "# print(len(data))\n",
    "# with open('filtered_labels.json', 'w') as f:\n",
    "#     json.dump(data, f)"
   ]
  },
  {
   "cell_type": "code",
   "execution_count": 3,
   "id": "51a69e1c",
   "metadata": {},
   "outputs": [],
   "source": [
    "with open('labeled_dataset.json', 'r') as f:\n",
    "    data = json.load(f)\n",
    "    \n",
    "document = data['document']\n",
    "# models_skipped = data['models_skipped']"
   ]
  },
  {
   "cell_type": "code",
   "execution_count": 11,
   "id": "9d9c016a",
   "metadata": {},
   "outputs": [
    {
     "name": "stdout",
     "output_type": "stream",
     "text": [
      "['298551572', '1943637279', '594748687', '2009977896', '990055905', '257661709', '924160287', '1666082353', '2103936055', '136641527', '1900005796', '534963988', '239040048', '94639019', '759444129', '1455383864', '440062101', '1147805498', '1849808459', '663814305', '77036772', '1662246858', '1056720200', '938737434', '959329687', '1219076918', '107168023', '83172456', '278446714', '839677548', '2125236316', '1070811881', '107227795', '505448326', '1563731835', '1790363357', '1968047195', '1753657768', '236600171', '97857755', '804027997', '198605208', '805167653']\n"
     ]
    }
   ],
   "source": [
    "empty_doc = [k for k, v in document.items() if v == []]\n",
    "print(empty_doc)"
   ]
  },
  {
   "cell_type": "code",
   "execution_count": 254,
   "id": "cfcdac5a",
   "metadata": {
    "scrolled": true
   },
   "outputs": [
    {
     "name": "stdout",
     "output_type": "stream",
     "text": [
      "[['prepare agenda', 'book resources', 'lock data', 'lock requests', 'send reminder', 'voting', 'manage procedures', 'open session', 'conference session', 'conference timeout', 'finalize session', 'close session', 'unlock resources']]\n"
     ]
    }
   ],
   "source": [
    "process = [\n",
    "    ['prepare agenda',\n",
    "  'book resources',\n",
    "  'lock data',\n",
    "  'lock requests',\n",
    "  'send reminder',\n",
    "  'voting',\n",
    "     'Manage Procedures',\n",
    "     'Open Session',\n",
    "     'Conference Session',\n",
    "     'Conference Timeout',\n",
    "     'Finalize Session',\n",
    "     'Close session',\n",
    "     'Unlock resources'\n",
    "    ]\n",
    "]\n",
    "\n",
    "x_list = []\n",
    "for p in process:\n",
    "    x_list.append([x.lower() for x in p])\n",
    "\n",
    "print(x_list)"
   ]
  },
  {
   "cell_type": "code",
   "execution_count": 255,
   "id": "e48e5661",
   "metadata": {},
   "outputs": [],
   "source": [
    "document['696621953'] = x_list"
   ]
  },
  {
   "cell_type": "code",
   "execution_count": 256,
   "id": "aca66982",
   "metadata": {},
   "outputs": [
    {
     "data": {
      "text/plain": [
       "[['prepare agenda',\n",
       "  'book resources',\n",
       "  'lock data',\n",
       "  'lock requests',\n",
       "  'send reminder',\n",
       "  'voting',\n",
       "  'manage procedures',\n",
       "  'open session',\n",
       "  'conference session',\n",
       "  'conference timeout',\n",
       "  'finalize session',\n",
       "  'close session',\n",
       "  'unlock resources']]"
      ]
     },
     "execution_count": 256,
     "metadata": {},
     "output_type": "execute_result"
    }
   ],
   "source": [
    "document['696621953']"
   ]
  },
  {
   "cell_type": "code",
   "execution_count": 257,
   "id": "ba770c09",
   "metadata": {},
   "outputs": [
    {
     "data": {
      "text/plain": [
       "['666093764', '1518128999', '133942989', '1742275842']"
      ]
     },
     "execution_count": 257,
     "metadata": {},
     "output_type": "execute_result"
    }
   ],
   "source": [
    "data.pop('models_skipped')"
   ]
  },
  {
   "cell_type": "code",
   "execution_count": 259,
   "id": "f8b0d798",
   "metadata": {},
   "outputs": [],
   "source": [
    "with open('labeled_dataset.json', 'w') as f:\n",
    "    json.dump(data, f)"
   ]
  },
  {
   "cell_type": "code",
   "execution_count": null,
   "id": "2890b503",
   "metadata": {},
   "outputs": [],
   "source": [
    "# manual input [] & [[]]\n",
    "# check doc length is > 1\n",
    "# check \"tasks or subprocesses\"\n",
    "# check scenario where d in doc length is <= 3\n",
    "# new file: replace the key with labels\n",
    "\n",
    "# sort the subprocess right\n",
    "# lower case all of them!\n",
    "# filter and add into the file"
   ]
  },
  {
   "cell_type": "code",
   "execution_count": null,
   "id": "841e24bb",
   "metadata": {},
   "outputs": [],
   "source": [
    "{\"choose seach type\": ['exact match', 'fuzzy match'],\n",
    " \"choose search filters\": ['by location', 'by date', 'by document type', 'by language', 'by author', 'by category', 'no filters'],\n",
    " \"log in\": ['credentials retrieved', 'validate username', 'invalid username', 'set attempts counter to 0', 'validate password', 'validation server not available', 'increment attempts counter', 'maximum attempts exceeded', 'test captcha', 'notify user to try again later', 'unable to log in', 'user logged in'],\n",
    " \"conduct risk assessment\": ['risk identification', 'risk analysis', 'risk evaluation'],\n",
    " \"update configuration\": ['update message received', 'check assembly line', 'deny update', 'notify pit', 'insert updates', 'notify updates made'],\n",
    " \"cancel bike assembling\": ['cancellation message received', 'check assembly line', 'deny cancellations', 'order to stop assembly', 'disassemble bike'],\n",
    " \"consolidate supply orders\": ['merge list of total items', 'call each supplier', 'place the order', 'update the price', 'do nothing', 'confirm the price'],\n",
    " \"validate suppliers\": ['validate the suppliers', 'scan the orders', 'access the suppliers file'],\n",
    " \"check previous payment\": ['check the previous payments', 'inform the customer, the order is not approved', 'proceed and go to the next stage'],\n",
    " \"prepare proposal\":['process proposal', 'verify proposal', 'request correction', 'submit proposal'],\n",
    " \"check received contract\": ['receive contract', 'check parameters', 'contract complete', 'approve contract', 'process information', 'contract incomplete', 'reject contract'],\n",
    " \"check resources\": ['check resources', 'fulfilling resources', 'determining contents and conditions'],\n",
    " \"plan event\": ['checking resources', 'verifying speakers', 'checking suitable guests', 'drawing detailed program', 'inviting participants'],\n",
    " \"execute client authentication\": ['web server requests for login', 'client enters username and password', 'web server passes authentication data to authentication server', 'authentication server compares login details with user database', 'results ofcomparison sent to web server'],\n",
    " \"\":[''],\n",
    "}"
   ]
  },
  {
   "cell_type": "code",
   "execution_count": null,
   "id": "6bef5add",
   "metadata": {},
   "outputs": [],
   "source": []
  },
  {
   "cell_type": "code",
   "execution_count": null,
   "id": "f9b821b0",
   "metadata": {},
   "outputs": [],
   "source": []
  },
  {
   "cell_type": "code",
   "execution_count": null,
   "id": "fbd1234a",
   "metadata": {},
   "outputs": [],
   "source": [
    "# parse filtered data\n",
    "# a lot of pure subprocesses\n",
    "# lower case all of them!\n",
    "# check for those that are less than 3 tasks\n",
    "\n",
    "# cross check with subprocess files to add more \n",
    "# manage to get 400-450 (get from epc if not enough & extra parsing from examples)\n",
    "\n",
    "# next round:\n",
    "# try data augmentation (topic selected) with doc similarity -> fuzzywuzzy, bertscore, doc2vec\n",
    "# try event ghosting or gateway selection\n",
    "# remember to still keep corner cases in test set"
   ]
  },
  {
   "cell_type": "code",
   "execution_count": null,
   "id": "797e185d",
   "metadata": {},
   "outputs": [],
   "source": [
    "# lower all datasample string!!"
   ]
  },
  {
   "cell_type": "code",
   "execution_count": null,
   "id": "b87db3bf",
   "metadata": {},
   "outputs": [],
   "source": [
    "with open('train_subprocess.json', 'r') as f:\n",
    "    data_subprocess = json.load(f)\n",
    "\n",
    "# post process data_subprocess and merge with data_no_pool\n",
    "# skip what doesnt need\n",
    "# finetune..."
   ]
  }
 ],
 "metadata": {
  "kernelspec": {
   "display_name": "Python 3 (ipykernel)",
   "language": "python",
   "name": "python3"
  },
  "language_info": {
   "codemirror_mode": {
    "name": "ipython",
    "version": 3
   },
   "file_extension": ".py",
   "mimetype": "text/x-python",
   "name": "python",
   "nbconvert_exporter": "python",
   "pygments_lexer": "ipython3",
   "version": "3.9.7"
  }
 },
 "nbformat": 4,
 "nbformat_minor": 5
}
