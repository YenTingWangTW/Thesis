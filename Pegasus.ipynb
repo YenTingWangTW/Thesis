{
  "cells": [
    {
      "cell_type": "markdown",
      "metadata": {
        "id": "o4LU-8BSSWny"
      },
      "source": [
        "### Pegasus\n",
        "\n",
        "#### Further pre-train Pegasus using Gap Sentences Generation (GSG) with process data\n",
        "- Experiment:\n",
        "    - Pegasus is further pre-trained using *process data* with its original pre-training task, GSG learning, reproducing masked sentences \n",
        "- Process data:\n",
        "    - Document (masked process text) and summary (masked sentences)\n",
        "- Input model (one of below):\n",
        "    - Further pre-trained Pegasus (Pegasus-TML)\n",
        "    - Pre-trained Pegasus loaded from Hugging Face\n",
        "- Outline:\n",
        "    - Track the experiment and its results with WandB (Weights & Biases)\n",
        "    - Define the experiment, data loading, training and validation \n",
        "    - Validation loss is tracked to apply early stopping and prevent overfitting\n",
        "    \n",
        "#### Reference\n",
        "- Pegasus Hugging Face: \n",
        "https://huggingface.co/docs/transformers/model_doc/pegasus\n",
        "- Hugging Face Fine-tuning Transformer tutorial:\n",
        "https://huggingface.co/docs/transformers/training\n",
        "- WandB pipeline:\n",
        "https://colab.research.google.com/github/wandb/examples/blob/master/colabs/pytorch/Simple_PyTorch_Integration.ipynb#scrollTo=FH61NWlVR_SL\n",
        "- Early stopping:\n",
        "https://wandb.ai/ayush-thakur/huggingface/reports/Early-Stopping-in-HuggingFace-Examples--Vmlldzo0MzE2MTM"
      ]
    },
    {
      "cell_type": "markdown",
      "metadata": {
        "id": "S3ga7jcYSWn1"
      },
      "source": [
        "#### Environment Setup \n",
        "- Google Colab\n",
        "- Amazon SageMaker Studio (Kernel: Python 3 Data Science)"
      ]
    },
    {
      "cell_type": "code",
      "execution_count": 1,
      "metadata": {
        "id": "ieh3Tf0rSWn2"
      },
      "outputs": [],
      "source": [
        "# %%capture\n",
        "# !pip3 install torch==1.10.1+cu113 torchvision==0.11.2+cu113 torchaudio==0.10.1+cu113 -f https://download.pytorch.org/whl/cu113/torch_stable.html\n",
        "# !pip3 install transformers\n",
        "# !pip3 install sentencepiece\n",
        "# !pip3 install wandb --upgrade"
      ]
    },
    {
      "cell_type": "markdown",
      "metadata": {
        "id": "tk-8G3BqSWn6"
      },
      "source": [
        "#### Import Libraries"
      ]
    },
    {
      "cell_type": "code",
      "execution_count": 2,
      "metadata": {
        "colab": {
          "base_uri": "https://localhost:8080/",
          "height": 105,
          "referenced_widgets": [
            "08238357a9a241c1989287487e0b7b97",
            "567724d0e6bc45ad8f87152c79b16a18",
            "3026919bb9c844f4ad5037d8bb8a1dff",
            "7687415227784773a8a4eaaf98edc75e",
            "d7832f0d749c4b9db4d2bb52cf1b2a00",
            "facbd6798f244feb85210798234b67a1",
            "ad0aeb54f2924fa69f46dc47f826397f",
            "0d65bbaffd634b92825081f53d407d82",
            "080705367f214d7f8656827ff743228f",
            "799c4a699a1b46b7973d93074cd9c654",
            "3dd03cc8cbb74122bf07d0cfd5c33c4d"
          ]
        },
        "id": "G--KbbBISWn6",
        "outputId": "081cc2cc-78a7-4b78-851f-181702ebb4b6"
      },
      "outputs": [
        {
          "name": "stderr",
          "output_type": "stream",
          "text": [
            "The cache for model files in Transformers v4.22.0 has been updated. Migrating your old cache. This is a one-time only operation. You can interrupt this and resume the migration later on by calling `transformers.utils.move_cache()`.\n"
          ]
        },
        {
          "name": "stdout",
          "output_type": "stream",
          "text": [
            "Moving 0 files to the new cache system\n"
          ]
        },
        {
          "data": {
            "application/vnd.jupyter.widget-view+json": {
              "model_id": "08238357a9a241c1989287487e0b7b97",
              "version_major": 2,
              "version_minor": 0
            },
            "text/plain": [
              "0it [00:00, ?it/s]"
            ]
          },
          "metadata": {},
          "output_type": "display_data"
        }
      ],
      "source": [
        "import json\n",
        "import random\n",
        "import numpy as np\n",
        "import pandas as pd\n",
        "\n",
        "import torch\n",
        "import torch.nn as nn\n",
        "from torch.utils.data import Dataset, DataLoader\n",
        "from transformers import PegasusForConditionalGeneration, PegasusTokenizerFast\n",
        "from transformers.optimization import Adafactor\n",
        "from tqdm.auto import tqdm\n",
        "\n",
        "import wandb"
      ]
    },
    {
      "cell_type": "markdown",
      "metadata": {
        "id": "nKvERI0dSWn7"
      },
      "source": [
        "#### WandB Setup"
      ]
    },
    {
      "cell_type": "code",
      "execution_count": 3,
      "metadata": {
        "id": "tb7u_ey1SWn7"
      },
      "outputs": [],
      "source": [
        "# Ensure deterministic behavior\n",
        "torch.backends.cudnn.deterministic = True\n",
        "random.seed(hash(\"setting random seeds\") % 2**32 - 1)\n",
        "np.random.seed(hash(\"improves reproducibility\") % 2**32 - 1)\n",
        "torch.manual_seed(hash(\"by removing stochasticity\") % 2**32 - 1)\n",
        "torch.cuda.manual_seed_all(hash(\"so runs are repeatable\") % 2**32 - 1)"
      ]
    },
    {
      "cell_type": "code",
      "execution_count": 4,
      "metadata": {
        "id": "Kxa2UhbsSWn7"
      },
      "outputs": [],
      "source": [
        "# Device configuration\n",
        "device = torch.device(\"cuda:0\" if torch.cuda.is_available() else \"cpu\")"
      ]
    },
    {
      "cell_type": "code",
      "execution_count": 5,
      "metadata": {
        "colab": {
          "base_uri": "https://localhost:8080/",
          "height": 108
        },
        "id": "0tpvHuUCSWn7",
        "outputId": "dbb3e009-2a87-4ceb-ff15-8c5d431392b6"
      },
      "outputs": [
        {
          "name": "stderr",
          "output_type": "stream",
          "text": [
            "ERROR:wandb.jupyter:Failed to detect the name of this notebook, you can set it manually with the WANDB_NOTEBOOK_NAME environment variable to enable code saving.\n"
          ]
        },
        {
          "data": {
            "application/javascript": "\n        window._wandbApiKey = new Promise((resolve, reject) => {\n            function loadScript(url) {\n            return new Promise(function(resolve, reject) {\n                let newScript = document.createElement(\"script\");\n                newScript.onerror = reject;\n                newScript.onload = resolve;\n                document.body.appendChild(newScript);\n                newScript.src = url;\n            });\n            }\n            loadScript(\"https://cdn.jsdelivr.net/npm/postmate/build/postmate.min.js\").then(() => {\n            const iframe = document.createElement('iframe')\n            iframe.style.cssText = \"width:0;height:0;border:none\"\n            document.body.appendChild(iframe)\n            const handshake = new Postmate({\n                container: iframe,\n                url: 'https://wandb.ai/authorize'\n            });\n            const timeout = setTimeout(() => reject(\"Couldn't auto authenticate\"), 5000)\n            handshake.then(function(child) {\n                child.on('authorize', data => {\n                    clearTimeout(timeout)\n                    resolve(data)\n                });\n            });\n            })\n        });\n    ",
            "text/plain": [
              "<IPython.core.display.Javascript object>"
            ]
          },
          "metadata": {},
          "output_type": "display_data"
        },
        {
          "name": "stderr",
          "output_type": "stream",
          "text": [
            "\u001b[34m\u001b[1mwandb\u001b[0m: Appending key for api.wandb.ai to your netrc file: /root/.netrc\n"
          ]
        },
        {
          "data": {
            "text/plain": [
              "True"
            ]
          },
          "execution_count": 5,
          "metadata": {},
          "output_type": "execute_result"
        }
      ],
      "source": [
        "# set up the project in your WandB account first\n",
        "wandb.login()"
      ]
    },
    {
      "cell_type": "markdown",
      "metadata": {
        "id": "P8fRKBsoSWn8"
      },
      "source": [
        "#### Define the Experiment and Pipeline "
      ]
    },
    {
      "cell_type": "code",
      "execution_count": 6,
      "metadata": {
        "id": "pcoUgN1iSWn8"
      },
      "outputs": [],
      "source": [
        "# Define the configuration of the experiment\n",
        "config = dict(\n",
        "    epochs = 10,\n",
        "    batch_size = 2,\n",
        "    optimizer = \"adafactor\",\n",
        "    es_patience = 5, # early stopping patience steps\n",
        "    loss_function = \"maskedSent-loss\", # Masked Sentences loss from Gap Sentences Generation (GSG) learning\n",
        "    dataset = \"bpmai-29-10-2019\",\n",
        "    architecture = \"seq2seq-pegasus\",\n",
        "    retrain = False, # True if continue training from checkpoint of previous iteration\n",
        "    input_model = \"\", # specify path of input model if continue training or left blank\n",
        "    output_model= \"\"  # specify path to save output model, i.e. \"./model_maskedSent/maskedSent_{}_epoch.pth\".\n",
        ")\n"
      ]
    },
    {
      "cell_type": "markdown",
      "metadata": {
        "id": "CvyfkM9wSWn8"
      },
      "source": [
        "##### Track metadata and hyperparameters with wandb.init"
      ]
    },
    {
      "cell_type": "code",
      "execution_count": 7,
      "metadata": {
        "id": "iMrjMgKuSWn9"
      },
      "outputs": [],
      "source": [
        "# Define the training pipeline\n",
        "def model_pipeline(hyperparameters):\n",
        "    with wandb.init(project=\"wandb-project-name\", entity=\"wandb-entity-name\", config=hyperparameters):\n",
        "        config = wandb.config\n",
        "        # set model, data loaders, optimizer, and early stopping with defined config\n",
        "        model, train_loader, val_loader, optimizer = make(config)\n",
        "        es = EarlyStopping(patience = config.es_patience)\n",
        "        # train and validate with early stopping applied\n",
        "        train_and_val(model, train_loader, val_loader, optimizer, es, config)\n",
        "\n",
        "    return model"
      ]
    },
    {
      "cell_type": "markdown",
      "metadata": {
        "id": "vSV-by2ISWn9"
      },
      "source": [
        "##### Set model, data loaders and optimizer with defined configuration"
      ]
    },
    {
      "cell_type": "code",
      "execution_count": 8,
      "metadata": {
        "id": "bXgM39whSWn9"
      },
      "outputs": [],
      "source": [
        "def make(config):\n",
        "    # set pretrained tokenizer, model and optimizer\n",
        "    model_name = 'google/pegasus-large' # 'google/pegasus-xsum'\n",
        "    tokenizer = PegasusTokenizerFast.from_pretrained(model_name)\n",
        "    model = PegasusForConditionalGeneration.from_pretrained(model_name, return_dict=True)\n",
        "    optimizer = Adafactor(model.parameters(), scale_parameter=True, relative_step=True, warmup_init=True, lr=None)\n",
        "    \n",
        "    # if continue training from checkpoint of previous iteration\n",
        "    if config.retrain: \n",
        "        load(model, optimizer, config.input_model)\n",
        "        model = PegasusForConditionalGeneration.from_pretrained(model_name, output_hidden_states=True, output_attentions=True, return_dict=True)\n",
        "        if torch.cuda.device_count() > 1:\n",
        "            print(\"Let's use\", torch.cuda.device_count(), \"GPUs!\")\n",
        "            model = nn.DataParallel(model)\n",
        "    model.to(device)\n",
        "    \n",
        "    # set data loaders\n",
        "    train_loader = make_loader(train_data, tokenizer, shuffle=True, batch_size=config.batch_size)\n",
        "    val_loader = make_loader(val_data, tokenizer, shuffle=True, batch_size=config.batch_size)\n",
        "    # test print data\n",
        "    for batch in train_loader:\n",
        "        break\n",
        "    print({k: v.shape for k, v in batch.items()})\n",
        "    \n",
        "    return model, train_loader, val_loader, optimizer"
      ]
    },
    {
      "cell_type": "markdown",
      "metadata": {
        "id": "PlISewQgSWn-"
      },
      "source": [
        "#### Define Data Loading\n",
        "##### Load data"
      ]
    },
    {
      "cell_type": "code",
      "execution_count": 9,
      "metadata": {
        "id": "teXPv6h7SWn-"
      },
      "outputs": [],
      "source": [
        "with open('./data/masked_sent_train.json', 'r') as f:\n",
        "    train_data = json.load(f)\n",
        "with open('./data/masked_sent_val.json', 'r') as f:\n",
        "    val_data = json.load(f)"
      ]
    },
    {
      "cell_type": "markdown",
      "metadata": {
        "id": "aWlJLlTjSWn_"
      },
      "source": [
        "##### Define Process Dataset"
      ]
    },
    {
      "cell_type": "code",
      "execution_count": 10,
      "metadata": {
        "id": "71MoXUfeSWn_"
      },
      "outputs": [],
      "source": [
        "class ProcessDataset(torch.utils.data.Dataset):\n",
        "    def __init__(self, encodings, labels):\n",
        "        self.encodings = encodings\n",
        "        self.labels = labels\n",
        "        \n",
        "    def __getitem__(self, idx):\n",
        "        item = {key: torch.tensor(val[idx]) for key, val in self.encodings.items()}\n",
        "        item['labels'] = torch.tensor(self.labels['input_ids'][idx])\n",
        "        return item # input_ids, attention_mask, labels\n",
        "    \n",
        "    def __len__(self):\n",
        "        return len(self.labels['input_ids'])"
      ]
    },
    {
      "cell_type": "markdown",
      "metadata": {
        "id": "hjKP-iEMSWn_"
      },
      "source": [
        "##### Define Process Data Loader"
      ]
    },
    {
      "cell_type": "code",
      "execution_count": 11,
      "metadata": {
        "id": "W3pd41-kSWoA"
      },
      "outputs": [],
      "source": [
        "def make_loader(dataset, tokenizer, shuffle, batch_size):\n",
        "    texts = [x.lower() for x in dataset['document']]\n",
        "    labels = [x.lower() for x in dataset['summary']]\n",
        "    process_dataset = process_data(texts, labels, tokenizer)\n",
        "    process_dataloader = DataLoader(\n",
        "        dataset=process_dataset, shuffle=shuffle, batch_size=batch_size\n",
        "    )\n",
        "    return process_dataloader"
      ]
    },
    {
      "cell_type": "code",
      "execution_count": 12,
      "metadata": {
        "id": "0UCUMjcISWoA"
      },
      "outputs": [],
      "source": [
        "# Define function needed to tokenize texts and labels\n",
        "def process_data(texts, labels, tokenizer):\n",
        "    encodings = tokenizer(texts, truncation=True, padding=True)\n",
        "    decodings = tokenizer(labels, truncation=True, padding=True)\n",
        "    process_dataset = ProcessDataset(encodings, decodings)\n",
        "    return process_dataset"
      ]
    },
    {
      "cell_type": "markdown",
      "metadata": {
        "id": "f8sL4U3pSWoB"
      },
      "source": [
        "#### Define Early Stopping \n"
      ]
    },
    {
      "cell_type": "code",
      "execution_count": 13,
      "metadata": {
        "id": "JXXNeqxDSWoC"
      },
      "outputs": [],
      "source": [
        "class EarlyStopping(object):\n",
        "    def __init__(self, mode='min', min_delta=0, patience=10, percentage=False):\n",
        "        self.mode = mode\n",
        "        self.min_delta = min_delta\n",
        "        self.patience = patience\n",
        "        self.best = None\n",
        "        self.num_bad_epochs = 0\n",
        "        self.is_better = None\n",
        "        self._init_is_better(mode, min_delta, percentage)\n",
        "\n",
        "        if patience == 0:\n",
        "            self.is_better = lambda a, b: True\n",
        "            self.step = lambda a: False\n",
        "\n",
        "    def step(self, metrics):\n",
        "        if self.best is None:\n",
        "            self.best = metrics\n",
        "            return False\n",
        "\n",
        "        if torch.isnan(metrics):\n",
        "            return True\n",
        "\n",
        "        if self.is_better(metrics, self.best):\n",
        "            self.num_bad_epochs = 0\n",
        "            self.best = metrics\n",
        "        else:\n",
        "            self.num_bad_epochs += 1\n",
        "\n",
        "        if self.num_bad_epochs >= self.patience:\n",
        "            return True\n",
        "\n",
        "        return False\n",
        "\n",
        "    def _init_is_better(self, mode, min_delta, percentage):\n",
        "        if mode not in {'min', 'max'}:\n",
        "            raise ValueError('mode ' + mode + ' is unknown!')\n",
        "        if not percentage:\n",
        "            if mode == 'min':\n",
        "                self.is_better = lambda a, best: a < best - min_delta\n",
        "            if mode == 'max':\n",
        "                self.is_better = lambda a, best: a > best + min_delta\n",
        "        else:\n",
        "            if mode == 'min':\n",
        "                self.is_better = lambda a, best: a < best - (\n",
        "                            best * min_delta / 100)\n",
        "            if mode == 'max':\n",
        "                self.is_better = lambda a, best: a > best + (\n",
        "                            best * min_delta / 100)"
      ]
    },
    {
      "cell_type": "markdown",
      "metadata": {
        "id": "DZQ72aNYSWoC"
      },
      "source": [
        "#### Define Training Logic\n",
        "##### Track gradients and weights with wandb.watch and everything else, i.e. loss, with wandb.log"
      ]
    },
    {
      "cell_type": "code",
      "execution_count": 14,
      "metadata": {
        "id": "HmNK4EQvSWoC"
      },
      "outputs": [],
      "source": [
        "def train_and_val(model, train_loader, val_loader, optimizer, es, config):\n",
        "    # set the model to train\n",
        "    wandb.watch(model, log=\"all\", log_freq=10)\n",
        "\n",
        "    # run training and track with wandb\n",
        "    total_batches = len(train_loader) * config.epochs\n",
        "    print('num_training_steps', total_batches)\n",
        "    progress_bar = tqdm(range(total_batches))\n",
        "\n",
        "    batch_ct = 0\n",
        "    running_loss = 0.\n",
        "    last_loss = 0.\n",
        "    model_save_epoch = 0\n",
        "    for epoch in range(config.epochs):\n",
        "        model.train()\n",
        "        for idx, process_batch in enumerate(train_loader):\n",
        "            loss = train_batch(idx, process_batch, model, optimizer, progress_bar)\n",
        "            batch_ct += 1\n",
        "            # report metrics every 25th batch\n",
        "            running_loss += loss.item()\n",
        "            if (batch_ct % 25) == 0:\n",
        "                last_loss = running_loss / 25 # log loss in average term\n",
        "                train_log(last_loss, batch_ct, epoch)\n",
        "                running_loss = 0.\n",
        "\n",
        "        # validate model after train at each epoch\n",
        "        model.eval()\n",
        "        val_loss = val(model, val_loader)\n",
        "        val_log(val_loss, batch_ct, epoch) # log validation loss\n",
        "        # save model after train each epoch\n",
        "        output_model = config.output_model.format(epoch+1)\n",
        "        save(model, optimizer, output_model)\n",
        "        # check whether to apply early stopping (number of patience step)\n",
        "        if es.step(val_loss):\n",
        "            break\n",
        "            "
      ]
    },
    {
      "cell_type": "markdown",
      "metadata": {
        "id": "-nG_2sAcSWoD"
      },
      "source": [
        "##### Define functions needed in the training loop"
      ]
    },
    {
      "cell_type": "code",
      "execution_count": 15,
      "metadata": {
        "id": "c55mbR_9SWoD"
      },
      "outputs": [],
      "source": [
        "def train_batch(idx, batch, model, optimizer, progress_bar):                                                                                 \n",
        "    process_item = {k: v.to(device) for k, v in batch.items()}        \n",
        "    # forward pass\n",
        "    model_output = model(**process_item)\n",
        "    loss = model_output.loss    \n",
        "    # backward pass\n",
        "    optimizer.zero_grad()\n",
        "    loss.backward()\n",
        "    # step with optimizer every 2 step (batch accumulation)\n",
        "    if (idx+1) % 2 == 0:\n",
        "        optimizer.step()\n",
        "        progress_bar.update(1)\n",
        "\n",
        "    return loss"
      ]
    },
    {
      "cell_type": "code",
      "execution_count": 16,
      "metadata": {
        "id": "1jya4nafSWoD"
      },
      "outputs": [],
      "source": [
        "def val(model, val_loader):\n",
        "    with torch.no_grad():\n",
        "        loss = 0\n",
        "        for _, process_batch in enumerate(val_loader):\n",
        "            process_item = {k: v.to(device) for k, v in process_batch.items()}\n",
        "            outputs = model(**process_item)\n",
        "            loss += outputs.loss \n",
        "        # output loss in average\n",
        "        loss /= len(val_loader)\n",
        "    \n",
        "    return loss"
      ]
    },
    {
      "cell_type": "code",
      "execution_count": 17,
      "metadata": {
        "id": "ctOa9RDMSWoE"
      },
      "outputs": [],
      "source": [
        "def train_log(loss, batch_num, epoch):\n",
        "    wandb.log({\"epoch\": epoch, \"loss\": loss}, step=batch_num)\n",
        "    print(f\"Loss after \" + str(batch_num).zfill(5) + f\" steps: {loss:.3f}\")\n",
        "\n",
        "def val_log(loss, batch_num, epoch):\n",
        "    wandb.log({\"val_loss\": loss})\n",
        "    print(f\"Validation Loss after \" + str(batch_num).zfill(5) + f\" training steps: {loss:.3f}\")"
      ]
    },
    {
      "cell_type": "code",
      "execution_count": 18,
      "metadata": {
        "id": "uFssJR2gSWoF"
      },
      "outputs": [],
      "source": [
        "def save(model, optimizer, output_model):\n",
        "    torch.save({\n",
        "        'model_state_dict': model.state_dict(),\n",
        "        'optimizer_state_dict': optimizer.state_dict()\n",
        "    }, output_model)\n",
        "\n",
        "def load(model, optimizer, output_model):\n",
        "    checkpoint = torch.load(output_model)\n",
        "    model.load_state_dict(checkpoint['model_state_dict'])\n",
        "    optimizer.load_state_dict(checkpoint['optimizer_state_dict'])"
      ]
    },
    {
      "cell_type": "markdown",
      "metadata": {
        "id": "LX6sb4MQSWoF"
      },
      "source": [
        "#### Build, train and analyze the model with the pipeline"
      ]
    },
    {
      "cell_type": "code",
      "execution_count": null,
      "metadata": {
        "colab": {
          "base_uri": "https://localhost:8080/",
          "height": 1000,
          "referenced_widgets": [
            "d83d560bec804312a2409793e3cab77c",
            "277551df4bf54e5189c33809f2959dcd",
            "db802699399b43c192922e839421e5d7",
            "edc61548f2ca42f2a12be771c9dbc513",
            "efaf64dc451c47e5ba74412481a4fce4",
            "285de8e7fd8147d3824d6f1d071a4a15",
            "0f9991b650ac4e2a958a555dfa73f47e",
            "75143173930440c0a5c161f7bb37c0c8",
            "20f60be614d34eb789fe15f3cf60861e",
            "1ad0e89ca0f84b46991c7e488b5406c9",
            "9aebe17396ae42f28387247f5cbec84c"
          ]
        },
        "id": "IMkTOxInSWoF",
        "outputId": "c1cd2929-0952-4ede-bb87-bc39972c5e6c"
      },
      "outputs": [
        {
          "data": {
            "text/html": [
              "Tracking run with wandb version 0.13.3"
            ],
            "text/plain": [
              "<IPython.core.display.HTML object>"
            ]
          },
          "metadata": {},
          "output_type": "display_data"
        },
        {
          "data": {
            "text/html": [
              "Run data is saved locally in <code>/content/wandb/run-20220922_111727-14fvqr4d</code>"
            ],
            "text/plain": [
              "<IPython.core.display.HTML object>"
            ]
          },
          "metadata": {},
          "output_type": "display_data"
        },
        {
          "data": {
            "text/html": [
              "Syncing run <strong><a href=\"https://wandb.ai/yenting-thesis/wandb-project-name/runs/14fvqr4d\" target=\"_blank\">honest-shadow-4</a></strong> to <a href=\"https://wandb.ai/yenting-thesis/wandb-project-name\" target=\"_blank\">Weights & Biases</a> (<a href=\"https://wandb.me/run\" target=\"_blank\">docs</a>)<br/>"
            ],
            "text/plain": [
              "<IPython.core.display.HTML object>"
            ]
          },
          "metadata": {},
          "output_type": "display_data"
        },
        {
          "name": "stdout",
          "output_type": "stream",
          "text": [
            "{'input_ids': torch.Size([2, 809]), 'attention_mask': torch.Size([2, 809]), 'labels': torch.Size([2, 92])}\n",
            "num_training_steps 8530\n"
          ]
        },
        {
          "data": {
            "application/vnd.jupyter.widget-view+json": {
              "model_id": "d83d560bec804312a2409793e3cab77c",
              "version_major": 2,
              "version_minor": 0
            },
            "text/plain": [
              "  0%|          | 0/8530 [00:00<?, ?it/s]"
            ]
          },
          "metadata": {},
          "output_type": "display_data"
        },
        {
          "name": "stdout",
          "output_type": "stream",
          "text": [
            "Loss after 00025 steps: 12.003\n",
            "Loss after 00050 steps: 11.684\n",
            "Loss after 00075 steps: 11.170\n",
            "Loss after 00100 steps: 11.350\n",
            "Loss after 00125 steps: 10.939\n",
            "Loss after 00150 steps: 10.642\n",
            "Loss after 00175 steps: 10.397\n",
            "Loss after 00200 steps: 10.061\n",
            "Loss after 00225 steps: 9.847\n",
            "Loss after 00250 steps: 9.786\n",
            "Loss after 00275 steps: 9.482\n",
            "Loss after 00300 steps: 9.352\n",
            "Loss after 00325 steps: 9.083\n",
            "Loss after 00350 steps: 8.248\n",
            "Loss after 00375 steps: 7.016\n",
            "Loss after 00400 steps: 4.296\n",
            "Loss after 00425 steps: 1.886\n",
            "Loss after 00450 steps: 0.845\n",
            "Loss after 00475 steps: 0.597\n",
            "Loss after 00500 steps: 0.560\n",
            "Loss after 00525 steps: 0.603\n",
            "Loss after 00550 steps: 0.464\n",
            "Loss after 00575 steps: 0.640\n",
            "Loss after 00600 steps: 0.516\n",
            "Loss after 00625 steps: 0.555\n",
            "Loss after 00650 steps: 0.575\n",
            "Loss after 00675 steps: 0.809\n",
            "Loss after 00700 steps: 0.447\n",
            "Loss after 00725 steps: 0.415\n",
            "Loss after 00750 steps: 0.574\n",
            "Loss after 00775 steps: 0.466\n",
            "Loss after 00800 steps: 0.336\n",
            "Loss after 00825 steps: 0.452\n",
            "Loss after 00850 steps: 0.473\n",
            "Validation Loss after 00853 training steps: 0.299\n",
            "Loss after 00875 steps: 0.401\n",
            "Loss after 00900 steps: 0.389\n",
            "Loss after 00925 steps: 0.517\n",
            "Loss after 00950 steps: 0.338\n",
            "Loss after 00975 steps: 0.434\n",
            "Loss after 01000 steps: 0.511\n",
            "Loss after 01025 steps: 0.424\n",
            "Loss after 01050 steps: 0.393\n",
            "Loss after 01075 steps: 0.414\n",
            "Loss after 01100 steps: 0.355\n",
            "Loss after 01125 steps: 0.403\n",
            "Loss after 01150 steps: 0.453\n",
            "Loss after 01175 steps: 0.470\n",
            "Loss after 01200 steps: 0.350\n",
            "Loss after 01225 steps: 0.397\n",
            "Loss after 01250 steps: 0.359\n",
            "Loss after 01275 steps: 0.383\n",
            "Loss after 01300 steps: 0.426\n",
            "Loss after 01325 steps: 0.470\n",
            "Loss after 01350 steps: 0.278\n",
            "Loss after 01375 steps: 0.353\n",
            "Loss after 01400 steps: 0.350\n",
            "Loss after 01425 steps: 0.381\n",
            "Loss after 01450 steps: 0.514\n",
            "Loss after 01475 steps: 0.311\n",
            "Loss after 01500 steps: 0.581\n",
            "Loss after 01525 steps: 0.483\n",
            "Loss after 01550 steps: 0.415\n",
            "Loss after 01575 steps: 0.405\n",
            "Loss after 01600 steps: 0.392\n",
            "Loss after 01625 steps: 0.395\n",
            "Loss after 01650 steps: 0.421\n",
            "Loss after 01675 steps: 0.317\n",
            "Loss after 01700 steps: 0.373\n",
            "Validation Loss after 01706 training steps: 0.265\n",
            "Loss after 01725 steps: 0.277\n",
            "Loss after 01750 steps: 0.231\n",
            "Loss after 01775 steps: 0.265\n",
            "Loss after 01800 steps: 0.458\n",
            "Loss after 01825 steps: 0.349\n",
            "Loss after 01850 steps: 0.260\n",
            "Loss after 01875 steps: 0.245\n",
            "Loss after 01900 steps: 0.333\n",
            "Loss after 01925 steps: 0.277\n",
            "Loss after 01950 steps: 0.271\n",
            "Loss after 01975 steps: 0.377\n",
            "Loss after 02000 steps: 0.275\n",
            "Loss after 02025 steps: 0.316\n",
            "Loss after 02050 steps: 0.287\n",
            "Loss after 02075 steps: 0.359\n",
            "Loss after 02100 steps: 0.362\n",
            "Loss after 02125 steps: 0.355\n",
            "Loss after 02150 steps: 0.255\n",
            "Loss after 02175 steps: 0.333\n",
            "Loss after 02200 steps: 0.283\n",
            "Loss after 02225 steps: 0.386\n",
            "Loss after 02250 steps: 0.357\n",
            "Loss after 02275 steps: 0.206\n",
            "Loss after 02300 steps: 0.308\n",
            "Loss after 02325 steps: 0.374\n",
            "Loss after 02350 steps: 0.397\n",
            "Loss after 02375 steps: 0.314\n",
            "Loss after 02400 steps: 0.462\n",
            "Loss after 02425 steps: 0.366\n",
            "Loss after 02450 steps: 0.392\n",
            "Loss after 02475 steps: 0.289\n",
            "Loss after 02500 steps: 0.331\n",
            "Loss after 02525 steps: 0.262\n",
            "Loss after 02550 steps: 0.357\n",
            "Validation Loss after 02559 training steps: 0.242\n",
            "Loss after 02575 steps: 0.378\n",
            "Loss after 02600 steps: 0.295\n",
            "Loss after 02625 steps: 0.285\n",
            "Loss after 02650 steps: 0.315\n",
            "Loss after 02675 steps: 0.195\n",
            "Loss after 02700 steps: 0.214\n",
            "Loss after 02725 steps: 0.394\n",
            "Loss after 02750 steps: 0.213\n",
            "Loss after 02775 steps: 0.253\n",
            "Loss after 02800 steps: 0.301\n",
            "Loss after 02825 steps: 0.239\n",
            "Loss after 02850 steps: 0.320\n",
            "Loss after 02875 steps: 1.067\n",
            "Loss after 02900 steps: 0.355\n",
            "Loss after 02925 steps: 0.292\n",
            "Loss after 02950 steps: 0.232\n",
            "Loss after 02975 steps: 0.227\n",
            "Loss after 03000 steps: 0.270\n",
            "Loss after 03025 steps: 0.250\n",
            "Loss after 03050 steps: 0.312\n",
            "Loss after 03075 steps: 0.285\n",
            "Loss after 03100 steps: 0.239\n",
            "Loss after 03125 steps: 0.297\n",
            "Loss after 03150 steps: 0.278\n",
            "Loss after 03175 steps: 0.239\n",
            "Loss after 03200 steps: 0.233\n",
            "Loss after 03225 steps: 0.211\n",
            "Loss after 03250 steps: 0.422\n",
            "Loss after 03275 steps: 0.219\n",
            "Loss after 03300 steps: 0.293\n",
            "Loss after 03325 steps: 0.305\n",
            "Loss after 03350 steps: 0.258\n",
            "Loss after 03375 steps: 0.277\n",
            "Loss after 03400 steps: 0.223\n",
            "Validation Loss after 03412 training steps: 0.238\n",
            "Loss after 03425 steps: 0.255\n",
            "Loss after 03450 steps: 0.226\n",
            "Loss after 03475 steps: 0.224\n",
            "Loss after 03500 steps: 0.167\n",
            "Loss after 03525 steps: 0.189\n",
            "Loss after 03550 steps: 0.183\n",
            "Loss after 03575 steps: 0.191\n",
            "Loss after 03600 steps: 0.203\n",
            "Loss after 03625 steps: 0.320\n",
            "Loss after 03650 steps: 0.191\n",
            "Loss after 03675 steps: 0.211\n",
            "Loss after 03700 steps: 0.160\n",
            "Loss after 03725 steps: 0.276\n",
            "Loss after 03750 steps: 0.195\n",
            "Loss after 03775 steps: 0.236\n",
            "Loss after 03800 steps: 0.321\n",
            "Loss after 03825 steps: 0.352\n",
            "Loss after 03850 steps: 0.159\n",
            "Loss after 03875 steps: 0.294\n",
            "Loss after 03900 steps: 0.206\n",
            "Loss after 03925 steps: 0.214\n",
            "Loss after 03950 steps: 0.238\n",
            "Loss after 03975 steps: 0.289\n",
            "Loss after 04000 steps: 0.211\n",
            "Loss after 04025 steps: 0.205\n",
            "Loss after 04050 steps: 0.246\n",
            "Loss after 04075 steps: 0.191\n",
            "Loss after 04100 steps: 0.289\n",
            "Loss after 04125 steps: 0.242\n",
            "Loss after 04150 steps: 0.192\n",
            "Loss after 04175 steps: 0.280\n",
            "Loss after 04200 steps: 0.246\n",
            "Loss after 04225 steps: 0.284\n",
            "Loss after 04250 steps: 0.293\n",
            "Validation Loss after 04265 training steps: 0.245\n",
            "Loss after 04275 steps: 0.170\n",
            "Loss after 04300 steps: 0.260\n",
            "Loss after 04325 steps: 0.138\n",
            "Loss after 04350 steps: 0.144\n",
            "Loss after 04375 steps: 0.166\n"
          ]
        }
      ],
      "source": [
        "model = model_pipeline(config)"
      ]
    },
    {
      "cell_type": "code",
      "execution_count": null,
      "metadata": {
        "id": "9ZY6TdmBaPld"
      },
      "outputs": [],
      "source": []
    }
  ],
  "metadata": {
    "accelerator": "GPU",
    "colab": {
      "collapsed_sections": [],
      "provenance": []
    },
    "kernelspec": {
      "display_name": "Python 3.7.7 64-bit",
      "language": "python",
      "name": "python3"
    },
    "language_info": {
      "codemirror_mode": {
        "name": "ipython",
        "version": 3
      },
      "file_extension": ".py",
      "mimetype": "text/x-python",
      "name": "python",
      "nbconvert_exporter": "python",
      "pygments_lexer": "ipython3",
      "version": "3.7.7"
    },
    "vscode": {
      "interpreter": {
        "hash": "aee8b7b246df8f9039afb4144a1f6fd8d2ca17a180786b69acc140d282b71a49"
      }
    },
    "widgets": {
      "application/vnd.jupyter.widget-state+json": {
        "080705367f214d7f8656827ff743228f": {
          "model_module": "@jupyter-widgets/controls",
          "model_module_version": "1.5.0",
          "model_name": "ProgressStyleModel",
          "state": {
            "_model_module": "@jupyter-widgets/controls",
            "_model_module_version": "1.5.0",
            "_model_name": "ProgressStyleModel",
            "_view_count": null,
            "_view_module": "@jupyter-widgets/base",
            "_view_module_version": "1.2.0",
            "_view_name": "StyleView",
            "bar_color": null,
            "description_width": ""
          }
        },
        "08238357a9a241c1989287487e0b7b97": {
          "model_module": "@jupyter-widgets/controls",
          "model_module_version": "1.5.0",
          "model_name": "HBoxModel",
          "state": {
            "_dom_classes": [],
            "_model_module": "@jupyter-widgets/controls",
            "_model_module_version": "1.5.0",
            "_model_name": "HBoxModel",
            "_view_count": null,
            "_view_module": "@jupyter-widgets/controls",
            "_view_module_version": "1.5.0",
            "_view_name": "HBoxView",
            "box_style": "",
            "children": [
              "IPY_MODEL_567724d0e6bc45ad8f87152c79b16a18",
              "IPY_MODEL_3026919bb9c844f4ad5037d8bb8a1dff",
              "IPY_MODEL_7687415227784773a8a4eaaf98edc75e"
            ],
            "layout": "IPY_MODEL_d7832f0d749c4b9db4d2bb52cf1b2a00"
          }
        },
        "0d65bbaffd634b92825081f53d407d82": {
          "model_module": "@jupyter-widgets/base",
          "model_module_version": "1.2.0",
          "model_name": "LayoutModel",
          "state": {
            "_model_module": "@jupyter-widgets/base",
            "_model_module_version": "1.2.0",
            "_model_name": "LayoutModel",
            "_view_count": null,
            "_view_module": "@jupyter-widgets/base",
            "_view_module_version": "1.2.0",
            "_view_name": "LayoutView",
            "align_content": null,
            "align_items": null,
            "align_self": null,
            "border": null,
            "bottom": null,
            "display": null,
            "flex": null,
            "flex_flow": null,
            "grid_area": null,
            "grid_auto_columns": null,
            "grid_auto_flow": null,
            "grid_auto_rows": null,
            "grid_column": null,
            "grid_gap": null,
            "grid_row": null,
            "grid_template_areas": null,
            "grid_template_columns": null,
            "grid_template_rows": null,
            "height": null,
            "justify_content": null,
            "justify_items": null,
            "left": null,
            "margin": null,
            "max_height": null,
            "max_width": null,
            "min_height": null,
            "min_width": null,
            "object_fit": null,
            "object_position": null,
            "order": null,
            "overflow": null,
            "overflow_x": null,
            "overflow_y": null,
            "padding": null,
            "right": null,
            "top": null,
            "visibility": null,
            "width": "20px"
          }
        },
        "0f9991b650ac4e2a958a555dfa73f47e": {
          "model_module": "@jupyter-widgets/controls",
          "model_module_version": "1.5.0",
          "model_name": "DescriptionStyleModel",
          "state": {
            "_model_module": "@jupyter-widgets/controls",
            "_model_module_version": "1.5.0",
            "_model_name": "DescriptionStyleModel",
            "_view_count": null,
            "_view_module": "@jupyter-widgets/base",
            "_view_module_version": "1.2.0",
            "_view_name": "StyleView",
            "description_width": ""
          }
        },
        "1ad0e89ca0f84b46991c7e488b5406c9": {
          "model_module": "@jupyter-widgets/base",
          "model_module_version": "1.2.0",
          "model_name": "LayoutModel",
          "state": {
            "_model_module": "@jupyter-widgets/base",
            "_model_module_version": "1.2.0",
            "_model_name": "LayoutModel",
            "_view_count": null,
            "_view_module": "@jupyter-widgets/base",
            "_view_module_version": "1.2.0",
            "_view_name": "LayoutView",
            "align_content": null,
            "align_items": null,
            "align_self": null,
            "border": null,
            "bottom": null,
            "display": null,
            "flex": null,
            "flex_flow": null,
            "grid_area": null,
            "grid_auto_columns": null,
            "grid_auto_flow": null,
            "grid_auto_rows": null,
            "grid_column": null,
            "grid_gap": null,
            "grid_row": null,
            "grid_template_areas": null,
            "grid_template_columns": null,
            "grid_template_rows": null,
            "height": null,
            "justify_content": null,
            "justify_items": null,
            "left": null,
            "margin": null,
            "max_height": null,
            "max_width": null,
            "min_height": null,
            "min_width": null,
            "object_fit": null,
            "object_position": null,
            "order": null,
            "overflow": null,
            "overflow_x": null,
            "overflow_y": null,
            "padding": null,
            "right": null,
            "top": null,
            "visibility": null,
            "width": null
          }
        },
        "20f60be614d34eb789fe15f3cf60861e": {
          "model_module": "@jupyter-widgets/controls",
          "model_module_version": "1.5.0",
          "model_name": "ProgressStyleModel",
          "state": {
            "_model_module": "@jupyter-widgets/controls",
            "_model_module_version": "1.5.0",
            "_model_name": "ProgressStyleModel",
            "_view_count": null,
            "_view_module": "@jupyter-widgets/base",
            "_view_module_version": "1.2.0",
            "_view_name": "StyleView",
            "bar_color": null,
            "description_width": ""
          }
        },
        "277551df4bf54e5189c33809f2959dcd": {
          "model_module": "@jupyter-widgets/controls",
          "model_module_version": "1.5.0",
          "model_name": "HTMLModel",
          "state": {
            "_dom_classes": [],
            "_model_module": "@jupyter-widgets/controls",
            "_model_module_version": "1.5.0",
            "_model_name": "HTMLModel",
            "_view_count": null,
            "_view_module": "@jupyter-widgets/controls",
            "_view_module_version": "1.5.0",
            "_view_name": "HTMLView",
            "description": "",
            "description_tooltip": null,
            "layout": "IPY_MODEL_285de8e7fd8147d3824d6f1d071a4a15",
            "placeholder": "​",
            "style": "IPY_MODEL_0f9991b650ac4e2a958a555dfa73f47e",
            "value": " 26%"
          }
        },
        "285de8e7fd8147d3824d6f1d071a4a15": {
          "model_module": "@jupyter-widgets/base",
          "model_module_version": "1.2.0",
          "model_name": "LayoutModel",
          "state": {
            "_model_module": "@jupyter-widgets/base",
            "_model_module_version": "1.2.0",
            "_model_name": "LayoutModel",
            "_view_count": null,
            "_view_module": "@jupyter-widgets/base",
            "_view_module_version": "1.2.0",
            "_view_name": "LayoutView",
            "align_content": null,
            "align_items": null,
            "align_self": null,
            "border": null,
            "bottom": null,
            "display": null,
            "flex": null,
            "flex_flow": null,
            "grid_area": null,
            "grid_auto_columns": null,
            "grid_auto_flow": null,
            "grid_auto_rows": null,
            "grid_column": null,
            "grid_gap": null,
            "grid_row": null,
            "grid_template_areas": null,
            "grid_template_columns": null,
            "grid_template_rows": null,
            "height": null,
            "justify_content": null,
            "justify_items": null,
            "left": null,
            "margin": null,
            "max_height": null,
            "max_width": null,
            "min_height": null,
            "min_width": null,
            "object_fit": null,
            "object_position": null,
            "order": null,
            "overflow": null,
            "overflow_x": null,
            "overflow_y": null,
            "padding": null,
            "right": null,
            "top": null,
            "visibility": null,
            "width": null
          }
        },
        "3026919bb9c844f4ad5037d8bb8a1dff": {
          "model_module": "@jupyter-widgets/controls",
          "model_module_version": "1.5.0",
          "model_name": "FloatProgressModel",
          "state": {
            "_dom_classes": [],
            "_model_module": "@jupyter-widgets/controls",
            "_model_module_version": "1.5.0",
            "_model_name": "FloatProgressModel",
            "_view_count": null,
            "_view_module": "@jupyter-widgets/controls",
            "_view_module_version": "1.5.0",
            "_view_name": "ProgressView",
            "bar_style": "success",
            "description": "",
            "description_tooltip": null,
            "layout": "IPY_MODEL_0d65bbaffd634b92825081f53d407d82",
            "max": 1,
            "min": 0,
            "orientation": "horizontal",
            "style": "IPY_MODEL_080705367f214d7f8656827ff743228f",
            "value": 0
          }
        },
        "3dd03cc8cbb74122bf07d0cfd5c33c4d": {
          "model_module": "@jupyter-widgets/controls",
          "model_module_version": "1.5.0",
          "model_name": "DescriptionStyleModel",
          "state": {
            "_model_module": "@jupyter-widgets/controls",
            "_model_module_version": "1.5.0",
            "_model_name": "DescriptionStyleModel",
            "_view_count": null,
            "_view_module": "@jupyter-widgets/base",
            "_view_module_version": "1.2.0",
            "_view_name": "StyleView",
            "description_width": ""
          }
        },
        "567724d0e6bc45ad8f87152c79b16a18": {
          "model_module": "@jupyter-widgets/controls",
          "model_module_version": "1.5.0",
          "model_name": "HTMLModel",
          "state": {
            "_dom_classes": [],
            "_model_module": "@jupyter-widgets/controls",
            "_model_module_version": "1.5.0",
            "_model_name": "HTMLModel",
            "_view_count": null,
            "_view_module": "@jupyter-widgets/controls",
            "_view_module_version": "1.5.0",
            "_view_name": "HTMLView",
            "description": "",
            "description_tooltip": null,
            "layout": "IPY_MODEL_facbd6798f244feb85210798234b67a1",
            "placeholder": "​",
            "style": "IPY_MODEL_ad0aeb54f2924fa69f46dc47f826397f",
            "value": ""
          }
        },
        "75143173930440c0a5c161f7bb37c0c8": {
          "model_module": "@jupyter-widgets/base",
          "model_module_version": "1.2.0",
          "model_name": "LayoutModel",
          "state": {
            "_model_module": "@jupyter-widgets/base",
            "_model_module_version": "1.2.0",
            "_model_name": "LayoutModel",
            "_view_count": null,
            "_view_module": "@jupyter-widgets/base",
            "_view_module_version": "1.2.0",
            "_view_name": "LayoutView",
            "align_content": null,
            "align_items": null,
            "align_self": null,
            "border": null,
            "bottom": null,
            "display": null,
            "flex": null,
            "flex_flow": null,
            "grid_area": null,
            "grid_auto_columns": null,
            "grid_auto_flow": null,
            "grid_auto_rows": null,
            "grid_column": null,
            "grid_gap": null,
            "grid_row": null,
            "grid_template_areas": null,
            "grid_template_columns": null,
            "grid_template_rows": null,
            "height": null,
            "justify_content": null,
            "justify_items": null,
            "left": null,
            "margin": null,
            "max_height": null,
            "max_width": null,
            "min_height": null,
            "min_width": null,
            "object_fit": null,
            "object_position": null,
            "order": null,
            "overflow": null,
            "overflow_x": null,
            "overflow_y": null,
            "padding": null,
            "right": null,
            "top": null,
            "visibility": null,
            "width": null
          }
        },
        "7687415227784773a8a4eaaf98edc75e": {
          "model_module": "@jupyter-widgets/controls",
          "model_module_version": "1.5.0",
          "model_name": "HTMLModel",
          "state": {
            "_dom_classes": [],
            "_model_module": "@jupyter-widgets/controls",
            "_model_module_version": "1.5.0",
            "_model_name": "HTMLModel",
            "_view_count": null,
            "_view_module": "@jupyter-widgets/controls",
            "_view_module_version": "1.5.0",
            "_view_name": "HTMLView",
            "description": "",
            "description_tooltip": null,
            "layout": "IPY_MODEL_799c4a699a1b46b7973d93074cd9c654",
            "placeholder": "​",
            "style": "IPY_MODEL_3dd03cc8cbb74122bf07d0cfd5c33c4d",
            "value": " 0/0 [00:00&lt;?, ?it/s]"
          }
        },
        "799c4a699a1b46b7973d93074cd9c654": {
          "model_module": "@jupyter-widgets/base",
          "model_module_version": "1.2.0",
          "model_name": "LayoutModel",
          "state": {
            "_model_module": "@jupyter-widgets/base",
            "_model_module_version": "1.2.0",
            "_model_name": "LayoutModel",
            "_view_count": null,
            "_view_module": "@jupyter-widgets/base",
            "_view_module_version": "1.2.0",
            "_view_name": "LayoutView",
            "align_content": null,
            "align_items": null,
            "align_self": null,
            "border": null,
            "bottom": null,
            "display": null,
            "flex": null,
            "flex_flow": null,
            "grid_area": null,
            "grid_auto_columns": null,
            "grid_auto_flow": null,
            "grid_auto_rows": null,
            "grid_column": null,
            "grid_gap": null,
            "grid_row": null,
            "grid_template_areas": null,
            "grid_template_columns": null,
            "grid_template_rows": null,
            "height": null,
            "justify_content": null,
            "justify_items": null,
            "left": null,
            "margin": null,
            "max_height": null,
            "max_width": null,
            "min_height": null,
            "min_width": null,
            "object_fit": null,
            "object_position": null,
            "order": null,
            "overflow": null,
            "overflow_x": null,
            "overflow_y": null,
            "padding": null,
            "right": null,
            "top": null,
            "visibility": null,
            "width": null
          }
        },
        "9aebe17396ae42f28387247f5cbec84c": {
          "model_module": "@jupyter-widgets/controls",
          "model_module_version": "1.5.0",
          "model_name": "DescriptionStyleModel",
          "state": {
            "_model_module": "@jupyter-widgets/controls",
            "_model_module_version": "1.5.0",
            "_model_name": "DescriptionStyleModel",
            "_view_count": null,
            "_view_module": "@jupyter-widgets/base",
            "_view_module_version": "1.2.0",
            "_view_name": "StyleView",
            "description_width": ""
          }
        },
        "ad0aeb54f2924fa69f46dc47f826397f": {
          "model_module": "@jupyter-widgets/controls",
          "model_module_version": "1.5.0",
          "model_name": "DescriptionStyleModel",
          "state": {
            "_model_module": "@jupyter-widgets/controls",
            "_model_module_version": "1.5.0",
            "_model_name": "DescriptionStyleModel",
            "_view_count": null,
            "_view_module": "@jupyter-widgets/base",
            "_view_module_version": "1.2.0",
            "_view_name": "StyleView",
            "description_width": ""
          }
        },
        "d7832f0d749c4b9db4d2bb52cf1b2a00": {
          "model_module": "@jupyter-widgets/base",
          "model_module_version": "1.2.0",
          "model_name": "LayoutModel",
          "state": {
            "_model_module": "@jupyter-widgets/base",
            "_model_module_version": "1.2.0",
            "_model_name": "LayoutModel",
            "_view_count": null,
            "_view_module": "@jupyter-widgets/base",
            "_view_module_version": "1.2.0",
            "_view_name": "LayoutView",
            "align_content": null,
            "align_items": null,
            "align_self": null,
            "border": null,
            "bottom": null,
            "display": null,
            "flex": null,
            "flex_flow": null,
            "grid_area": null,
            "grid_auto_columns": null,
            "grid_auto_flow": null,
            "grid_auto_rows": null,
            "grid_column": null,
            "grid_gap": null,
            "grid_row": null,
            "grid_template_areas": null,
            "grid_template_columns": null,
            "grid_template_rows": null,
            "height": null,
            "justify_content": null,
            "justify_items": null,
            "left": null,
            "margin": null,
            "max_height": null,
            "max_width": null,
            "min_height": null,
            "min_width": null,
            "object_fit": null,
            "object_position": null,
            "order": null,
            "overflow": null,
            "overflow_x": null,
            "overflow_y": null,
            "padding": null,
            "right": null,
            "top": null,
            "visibility": null,
            "width": null
          }
        },
        "d83d560bec804312a2409793e3cab77c": {
          "model_module": "@jupyter-widgets/controls",
          "model_module_version": "1.5.0",
          "model_name": "HBoxModel",
          "state": {
            "_dom_classes": [],
            "_model_module": "@jupyter-widgets/controls",
            "_model_module_version": "1.5.0",
            "_model_name": "HBoxModel",
            "_view_count": null,
            "_view_module": "@jupyter-widgets/controls",
            "_view_module_version": "1.5.0",
            "_view_name": "HBoxView",
            "box_style": "",
            "children": [
              "IPY_MODEL_277551df4bf54e5189c33809f2959dcd",
              "IPY_MODEL_db802699399b43c192922e839421e5d7",
              "IPY_MODEL_edc61548f2ca42f2a12be771c9dbc513"
            ],
            "layout": "IPY_MODEL_efaf64dc451c47e5ba74412481a4fce4"
          }
        },
        "db802699399b43c192922e839421e5d7": {
          "model_module": "@jupyter-widgets/controls",
          "model_module_version": "1.5.0",
          "model_name": "FloatProgressModel",
          "state": {
            "_dom_classes": [],
            "_model_module": "@jupyter-widgets/controls",
            "_model_module_version": "1.5.0",
            "_model_name": "FloatProgressModel",
            "_view_count": null,
            "_view_module": "@jupyter-widgets/controls",
            "_view_module_version": "1.5.0",
            "_view_name": "ProgressView",
            "bar_style": "",
            "description": "",
            "description_tooltip": null,
            "layout": "IPY_MODEL_75143173930440c0a5c161f7bb37c0c8",
            "max": 8530,
            "min": 0,
            "orientation": "horizontal",
            "style": "IPY_MODEL_20f60be614d34eb789fe15f3cf60861e",
            "value": 2192
          }
        },
        "edc61548f2ca42f2a12be771c9dbc513": {
          "model_module": "@jupyter-widgets/controls",
          "model_module_version": "1.5.0",
          "model_name": "HTMLModel",
          "state": {
            "_dom_classes": [],
            "_model_module": "@jupyter-widgets/controls",
            "_model_module_version": "1.5.0",
            "_model_name": "HTMLModel",
            "_view_count": null,
            "_view_module": "@jupyter-widgets/controls",
            "_view_module_version": "1.5.0",
            "_view_name": "HTMLView",
            "description": "",
            "description_tooltip": null,
            "layout": "IPY_MODEL_1ad0e89ca0f84b46991c7e488b5406c9",
            "placeholder": "​",
            "style": "IPY_MODEL_9aebe17396ae42f28387247f5cbec84c",
            "value": " 2192/8530 [3:03:19&lt;5:38:30,  3.20s/it]"
          }
        },
        "efaf64dc451c47e5ba74412481a4fce4": {
          "model_module": "@jupyter-widgets/base",
          "model_module_version": "1.2.0",
          "model_name": "LayoutModel",
          "state": {
            "_model_module": "@jupyter-widgets/base",
            "_model_module_version": "1.2.0",
            "_model_name": "LayoutModel",
            "_view_count": null,
            "_view_module": "@jupyter-widgets/base",
            "_view_module_version": "1.2.0",
            "_view_name": "LayoutView",
            "align_content": null,
            "align_items": null,
            "align_self": null,
            "border": null,
            "bottom": null,
            "display": null,
            "flex": null,
            "flex_flow": null,
            "grid_area": null,
            "grid_auto_columns": null,
            "grid_auto_flow": null,
            "grid_auto_rows": null,
            "grid_column": null,
            "grid_gap": null,
            "grid_row": null,
            "grid_template_areas": null,
            "grid_template_columns": null,
            "grid_template_rows": null,
            "height": null,
            "justify_content": null,
            "justify_items": null,
            "left": null,
            "margin": null,
            "max_height": null,
            "max_width": null,
            "min_height": null,
            "min_width": null,
            "object_fit": null,
            "object_position": null,
            "order": null,
            "overflow": null,
            "overflow_x": null,
            "overflow_y": null,
            "padding": null,
            "right": null,
            "top": null,
            "visibility": null,
            "width": null
          }
        },
        "facbd6798f244feb85210798234b67a1": {
          "model_module": "@jupyter-widgets/base",
          "model_module_version": "1.2.0",
          "model_name": "LayoutModel",
          "state": {
            "_model_module": "@jupyter-widgets/base",
            "_model_module_version": "1.2.0",
            "_model_name": "LayoutModel",
            "_view_count": null,
            "_view_module": "@jupyter-widgets/base",
            "_view_module_version": "1.2.0",
            "_view_name": "LayoutView",
            "align_content": null,
            "align_items": null,
            "align_self": null,
            "border": null,
            "bottom": null,
            "display": null,
            "flex": null,
            "flex_flow": null,
            "grid_area": null,
            "grid_auto_columns": null,
            "grid_auto_flow": null,
            "grid_auto_rows": null,
            "grid_column": null,
            "grid_gap": null,
            "grid_row": null,
            "grid_template_areas": null,
            "grid_template_columns": null,
            "grid_template_rows": null,
            "height": null,
            "justify_content": null,
            "justify_items": null,
            "left": null,
            "margin": null,
            "max_height": null,
            "max_width": null,
            "min_height": null,
            "min_width": null,
            "object_fit": null,
            "object_position": null,
            "order": null,
            "overflow": null,
            "overflow_x": null,
            "overflow_y": null,
            "padding": null,
            "right": null,
            "top": null,
            "visibility": null,
            "width": null
          }
        }
      }
    }
  },
  "nbformat": 4,
  "nbformat_minor": 0
}
