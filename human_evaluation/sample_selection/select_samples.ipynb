{
 "cells": [
  {
   "cell_type": "code",
   "execution_count": 38,
   "id": "a19beb4d",
   "metadata": {},
   "outputs": [],
   "source": [
    "import json\n",
    "import random\n",
    "import numpy as np\n",
    "import seaborn as sns\n",
    "import matplotlib.pyplot as plt\n",
    "from bert_score import BERTScorer\n",
    "\n",
    "%matplotlib inline"
   ]
  },
  {
   "cell_type": "code",
   "execution_count": 3,
   "id": "1db19497",
   "metadata": {},
   "outputs": [],
   "source": [
    "with open('./aug_train_test_labeled_dataset_afterVal.json', 'r') as f:\n",
    "    dataset = json.load(f)\n",
    "with open('./eval_results/MaskedSent_generated_summary_newDs_e9.txt', 'r') as f:\n",
    "    maskedSent_results = [line.rstrip() for line in f]\n",
    "with open('./eval_results/TML_maskedSent_generated_summary_newDs_e7.txt', 'r') as f:\n",
    "    TML_results = [line.rstrip() for line in f]\n",
    "with open('./eval_results/MaskedSent_generated_summary_aug_e4.txt', 'r') as f:\n",
    "    maskedSent_aug_results = [line.rstrip() for line in f]\n",
    "with open('./eval_results/TML_maskedSent_generated_summary_aug_e6.txt', 'r') as f:\n",
    "    TML_aug_results = [line.rstrip() for line in f]"
   ]
  },
  {
   "cell_type": "code",
   "execution_count": 26,
   "id": "6f35ddaa",
   "metadata": {
    "scrolled": true
   },
   "outputs": [
    {
     "name": "stderr",
     "output_type": "stream",
     "text": [
      "Some weights of the model checkpoint at roberta-large were not used when initializing RobertaModel: ['lm_head.dense.weight', 'lm_head.bias', 'lm_head.dense.bias', 'lm_head.layer_norm.weight', 'lm_head.decoder.weight', 'lm_head.layer_norm.bias']\n",
      "- This IS expected if you are initializing RobertaModel from the checkpoint of a model trained on another task or with another architecture (e.g. initializing a BertForSequenceClassification model from a BertForPreTraining model).\n",
      "- This IS NOT expected if you are initializing RobertaModel from the checkpoint of a model that you expect to be exactly identical (initializing a BertForSequenceClassification model from a BertForSequenceClassification model).\n"
     ]
    }
   ],
   "source": [
    "P_maskedSent = []\n",
    "R_maskedSent = []\n",
    "F1_maskedSent = []\n",
    "scorer = BERTScorer(lang=\"en\", rescale_with_baseline=True)\n",
    "for r, s in zip(maskedSent_results, dataset['summary_test']):\n",
    "    P_temp, R_temp, F1_temp = scorer.score([r], [s])\n",
    "    P_maskedSent.append(P_temp[0].item())\n",
    "    R_maskedSent.append(R_temp[0].item())\n",
    "    F1_maskedSent.append(F1_temp[0].item())"
   ]
  },
  {
   "cell_type": "code",
   "execution_count": 27,
   "id": "e720aa42",
   "metadata": {},
   "outputs": [
    {
     "name": "stderr",
     "output_type": "stream",
     "text": [
      "Some weights of the model checkpoint at roberta-large were not used when initializing RobertaModel: ['lm_head.dense.weight', 'lm_head.bias', 'lm_head.dense.bias', 'lm_head.layer_norm.weight', 'lm_head.decoder.weight', 'lm_head.layer_norm.bias']\n",
      "- This IS expected if you are initializing RobertaModel from the checkpoint of a model trained on another task or with another architecture (e.g. initializing a BertForSequenceClassification model from a BertForPreTraining model).\n",
      "- This IS NOT expected if you are initializing RobertaModel from the checkpoint of a model that you expect to be exactly identical (initializing a BertForSequenceClassification model from a BertForSequenceClassification model).\n"
     ]
    }
   ],
   "source": [
    "P_TML = []\n",
    "R_TML = []\n",
    "F1_TML = []\n",
    "scorer = BERTScorer(lang=\"en\", rescale_with_baseline=True)\n",
    "for r, s in zip(TML_results, dataset['summary_test']):\n",
    "    P_temp, R_temp, F1_temp = scorer.score([r], [s])\n",
    "    P_TML.append(P_temp[0].item())\n",
    "    R_TML.append(R_temp[0].item())\n",
    "    F1_TML.append(F1_temp[0].item())"
   ]
  },
  {
   "cell_type": "code",
   "execution_count": 28,
   "id": "d56093f1",
   "metadata": {},
   "outputs": [
    {
     "name": "stderr",
     "output_type": "stream",
     "text": [
      "Some weights of the model checkpoint at roberta-large were not used when initializing RobertaModel: ['lm_head.dense.weight', 'lm_head.bias', 'lm_head.dense.bias', 'lm_head.layer_norm.weight', 'lm_head.decoder.weight', 'lm_head.layer_norm.bias']\n",
      "- This IS expected if you are initializing RobertaModel from the checkpoint of a model trained on another task or with another architecture (e.g. initializing a BertForSequenceClassification model from a BertForPreTraining model).\n",
      "- This IS NOT expected if you are initializing RobertaModel from the checkpoint of a model that you expect to be exactly identical (initializing a BertForSequenceClassification model from a BertForSequenceClassification model).\n"
     ]
    }
   ],
   "source": [
    "P_maskedSent_aug = []\n",
    "R_maskedSent_aug = []\n",
    "F1_maskedSent_aug = []\n",
    "scorer = BERTScorer(lang=\"en\", rescale_with_baseline=True)\n",
    "for r, s in zip(maskedSent_aug_results, dataset['summary_test']):\n",
    "    P_temp, R_temp, F1_temp = scorer.score([r], [s])\n",
    "    P_maskedSent_aug.append(P_temp[0].item())\n",
    "    R_maskedSent_aug.append(R_temp[0].item())\n",
    "    F1_maskedSent_aug.append(F1_temp[0].item())"
   ]
  },
  {
   "cell_type": "code",
   "execution_count": 29,
   "id": "73fe030e",
   "metadata": {},
   "outputs": [
    {
     "name": "stderr",
     "output_type": "stream",
     "text": [
      "Some weights of the model checkpoint at roberta-large were not used when initializing RobertaModel: ['lm_head.dense.weight', 'lm_head.bias', 'lm_head.dense.bias', 'lm_head.layer_norm.weight', 'lm_head.decoder.weight', 'lm_head.layer_norm.bias']\n",
      "- This IS expected if you are initializing RobertaModel from the checkpoint of a model trained on another task or with another architecture (e.g. initializing a BertForSequenceClassification model from a BertForPreTraining model).\n",
      "- This IS NOT expected if you are initializing RobertaModel from the checkpoint of a model that you expect to be exactly identical (initializing a BertForSequenceClassification model from a BertForSequenceClassification model).\n"
     ]
    }
   ],
   "source": [
    "P_TML_aug = []\n",
    "R_TML_aug = []\n",
    "F1_TML_aug = []\n",
    "scorer = BERTScorer(lang=\"en\", rescale_with_baseline=True)\n",
    "for r, s in zip(TML_aug_results, dataset['summary_test']):\n",
    "    P_temp, R_temp, F1_temp = scorer.score([r], [s])\n",
    "    P_TML_aug.append(P_temp[0].item())\n",
    "    R_TML_aug.append(R_temp[0].item())\n",
    "    F1_TML_aug.append(F1_temp[0].item())"
   ]
  },
  {
   "cell_type": "code",
   "execution_count": 33,
   "id": "c902bb4c",
   "metadata": {},
   "outputs": [],
   "source": [
    "F1_mean = []\n",
    "for r1, r2, r3, r4 in zip(F1_maskedSent, F1_TML, F1_maskedSent_aug, F1_TML_aug):\n",
    "    mean = np.mean([r1, r2, r3, r4])\n",
    "    F1_mean.append(mean)"
   ]
  },
  {
   "cell_type": "code",
   "execution_count": 57,
   "id": "5ad3ee6b",
   "metadata": {},
   "outputs": [
    {
     "data": {
      "text/html": [
       "<svg  width=\"440\" height=\"55\"><rect x=\"0\" y=\"0\" width=\"55\" height=\"55\" style=\"fill:#a1c9f4;stroke-width:2;stroke:rgb(255,255,255)\"/><rect x=\"55\" y=\"0\" width=\"55\" height=\"55\" style=\"fill:#ffb482;stroke-width:2;stroke:rgb(255,255,255)\"/><rect x=\"110\" y=\"0\" width=\"55\" height=\"55\" style=\"fill:#8de5a1;stroke-width:2;stroke:rgb(255,255,255)\"/><rect x=\"165\" y=\"0\" width=\"55\" height=\"55\" style=\"fill:#ff9f9b;stroke-width:2;stroke:rgb(255,255,255)\"/><rect x=\"220\" y=\"0\" width=\"55\" height=\"55\" style=\"fill:#d0bbff;stroke-width:2;stroke:rgb(255,255,255)\"/><rect x=\"275\" y=\"0\" width=\"55\" height=\"55\" style=\"fill:#debb9b;stroke-width:2;stroke:rgb(255,255,255)\"/><rect x=\"330\" y=\"0\" width=\"55\" height=\"55\" style=\"fill:#fab0e4;stroke-width:2;stroke:rgb(255,255,255)\"/><rect x=\"385\" y=\"0\" width=\"55\" height=\"55\" style=\"fill:#cfcfcf;stroke-width:2;stroke:rgb(255,255,255)\"/></svg>"
      ],
      "text/plain": [
       "[(0.6313725490196078, 0.788235294117647, 0.9568627450980393),\n",
       " (1.0, 0.7058823529411765, 0.5098039215686274),\n",
       " (0.5529411764705883, 0.8980392156862745, 0.6313725490196078),\n",
       " (1.0, 0.6235294117647059, 0.6078431372549019),\n",
       " (0.8156862745098039, 0.7333333333333333, 1.0),\n",
       " (0.8705882352941177, 0.7333333333333333, 0.6078431372549019),\n",
       " (0.9803921568627451, 0.6901960784313725, 0.8941176470588236),\n",
       " (0.8117647058823529, 0.8117647058823529, 0.8117647058823529)]"
      ]
     },
     "execution_count": 57,
     "metadata": {},
     "output_type": "execute_result"
    }
   ],
   "source": [
    "sns.color_palette(\"pastel\", n_colors=8)"
   ]
  },
  {
   "cell_type": "code",
   "execution_count": 58,
   "id": "0be1651c",
   "metadata": {},
   "outputs": [
    {
     "data": {
      "image/png": "[encoded data removed]",
      "text/plain": [
       "<Figure size 432x288 with 1 Axes>"
      ]
     },
     "metadata": {},
     "output_type": "display_data"
    }
   ],
   "source": [
    "sns.set(style=\"darkgrid\")\n",
    "colors = sns.color_palette(\"pastel\", n_colors=8)\n",
    "\n",
    "sns.histplot(data=F1_maskedSent, color=colors[0], label=\"maskedSent\", kde=True)\n",
    "sns.histplot(data=F1_TML, color=colors[1], label=\"TML\", kde=True)\n",
    "sns.histplot(data=F1_maskedSent_aug, color=colors[2], label=\"maskedSent_aug\", kde=True)\n",
    "sns.histplot(data=F1_TML_aug, color=colors[3], label=\"TML_aug\", kde=True)\n",
    "\n",
    "plt.legend() \n",
    "plt.show()"
   ]
  },
  {
   "cell_type": "code",
   "execution_count": 185,
   "id": "c6af4735",
   "metadata": {},
   "outputs": [
    {
     "data": {
      "image/png": "[encoded data removed]",
      "text/plain": [
       "<Figure size 432x288 with 1 Axes>"
      ]
     },
     "metadata": {},
     "output_type": "display_data"
    }
   ],
   "source": [
    "sns.set(style=\"darkgrid\")\n",
    "sns.histplot(data=F1_mean, color=colors[4], label=\"all_F1\", kde=True)\n",
    "plt.legend() \n",
    "plt.show()"
   ]
  },
  {
   "cell_type": "code",
   "execution_count": 127,
   "id": "ad555e46",
   "metadata": {
    "scrolled": true
   },
   "outputs": [],
   "source": [
    "selected_idx = []\n",
    "selected_scores = []\n",
    "\n",
    "random.seed(47)\n",
    "selected = random.sample(list(enumerate(F1_mean)), k=50)\n",
    "for idx, score in selected:\n",
    "    selected_idx.append(idx)\n",
    "    selected_scores.append(score)"
   ]
  },
  {
   "cell_type": "code",
   "execution_count": 128,
   "id": "9542fd29",
   "metadata": {},
   "outputs": [
    {
     "data": {
      "image/png": "[encoded data removed]",
      "text/plain": [
       "<Figure size 432x288 with 1 Axes>"
      ]
     },
     "metadata": {},
     "output_type": "display_data"
    }
   ],
   "source": [
    "sns.set(style=\"darkgrid\")\n",
    "sns.histplot(data=selected_scores, color=colors[5], label=\"selected\", kde=True)\n",
    "plt.legend() \n",
    "plt.show()"
   ]
  },
  {
   "cell_type": "code",
   "execution_count": 129,
   "id": "27a48404",
   "metadata": {},
   "outputs": [],
   "source": [
    "selected_scores.remove(F1_mean[5])\n",
    "selected_idx.remove(5)\n",
    "selected_scores.append(F1_mean[7])\n",
    "selected_idx.append(7)"
   ]
  },
  {
   "cell_type": "code",
   "execution_count": 135,
   "id": "b13e4304",
   "metadata": {},
   "outputs": [],
   "source": [
    "selected_scores.remove(F1_mean[1])\n",
    "selected_idx.remove(1)\n",
    "selected_scores.append(F1_mean[57])\n",
    "selected_idx.append(57)"
   ]
  },
  {
   "cell_type": "code",
   "execution_count": 141,
   "id": "2b36ebe9",
   "metadata": {},
   "outputs": [],
   "source": [
    "selected_scores.remove(F1_mean[15])\n",
    "selected_idx.remove(15)\n",
    "selected_scores.append(F1_mean[83])\n",
    "selected_idx.append(83)"
   ]
  },
  {
   "cell_type": "code",
   "execution_count": 152,
   "id": "6990a326",
   "metadata": {},
   "outputs": [],
   "source": [
    "selected_scores.remove(F1_mean[62])\n",
    "selected_idx.remove(62)\n",
    "selected_scores.append(F1_mean[4])\n",
    "selected_idx.append(4)"
   ]
  },
  {
   "cell_type": "code",
   "execution_count": 176,
   "id": "68aada62",
   "metadata": {},
   "outputs": [],
   "source": [
    "remove = [7, 36, 54, 22, 30, 35, 37, 38, 50, 60, 76]\n",
    "append = [9, 14, 16, 20, 25, 31, 47, 52, 66, 67, 75]\n",
    "\n",
    "for r, a in zip(remove, append):\n",
    "    selected_scores.remove(F1_mean[r])\n",
    "    selected_idx.remove(r)\n",
    "    selected_scores.append(F1_mean[a])\n",
    "    selected_idx.append(a)"
   ]
  },
  {
   "cell_type": "code",
   "execution_count": 215,
   "id": "0a2c3194",
   "metadata": {
    "scrolled": true
   },
   "outputs": [
    {
     "name": "stdout",
     "output_type": "stream",
     "text": [
      "1. execute automated order processing\n",
      "0.3611586168408394\n",
      "\n",
      "prepare shipping invoice\n",
      "prepare shipping invoice\n",
      "prepare customer order\n",
      "manage customer account configuration\n",
      "\n",
      "3. publish job advertisement\n",
      "0.454096183180809\n",
      "\n",
      "create job advertisement\n",
      "create and post advertisement\n",
      "create and publish job advert\n",
      "create and send advertisement\n",
      "\n",
      "4. execute crowdsourcing\n",
      "0.4242165684700012\n",
      "\n",
      "request crowd-based solutions\n",
      "upload crowd-request\n",
      "handle crowd request\n",
      "operate problem solving process\n",
      "\n",
      "5. manage coffee break\n",
      "0.35974754579365253\n",
      "\n",
      "serve coffee\n",
      "prepare coffee\n",
      "prepare coffee\n",
      "preparation of the menu for the event\n",
      "\n",
      "7. manage incident\n",
      "0.6387428715825081\n",
      "\n",
      "diagnosis made\n",
      "incident identification and categorization\n",
      "classify incident\n",
      "manage incident\n",
      "\n",
      "9. list book for sale\n",
      "0.1873598382808268\n",
      "\n",
      "book title\n",
      "enter book title\n",
      "apply for the first time\n",
      "registration for the book\n",
      "\n",
      "10. handle urgent record request\n",
      "0.5763343535363674\n",
      "\n",
      "complete record request\n",
      "complete record request\n",
      "total record demand\n",
      "full record request\n",
      "\n",
      "13. manage documents\n",
      "0.8201036155223846\n",
      "\n",
      "manage documents\n",
      "manage documents\n",
      "manage document\n",
      "manage document configuration\n",
      "\n",
      "14. operate online consulting with patient\n",
      "0.3330574296414852\n",
      "\n",
      "conduct online consulting\n",
      "execute type 2 diabetes guideline with patient\n",
      "manage clinical pathway\n",
      "implementation of a guide for type 2 diabetes with a patient\n",
      "\n",
      "15. generate vendor master record\n",
      "0.49113554507493973\n",
      "\n",
      "add vendor number\n",
      "add new vendor number\n",
      "add sap vendor number\n",
      "registration for vendor master record\n",
      "\n",
      "17. sort invoice priority\n",
      "0.6912201642990112\n",
      "\n",
      "sort urgent invoices priority\n",
      "complete invoice priority\n",
      "manage urgent invoices\n",
      "manage invoice configuration\n",
      "\n",
      "21. create purchase requisition to purchase order\n",
      "0.49059104919433594\n",
      "\n",
      "create purchase requisition\n",
      "create purchase order\n",
      "create purchase requisition\n",
      "manage the purchase process\n",
      "\n",
      "22. request vendor master record\n",
      "0.9446667730808258\n",
      "\n",
      "request vendor master record\n",
      "complete vendor master record request\n",
      "request vendor master record\n",
      "request vendor master record\n",
      "\n",
      "24. prepare mortgage offer documents\n",
      "0.7288170754909515\n",
      "\n",
      "prepare mortgage offer documents\n",
      "prepare mortgage offer\n",
      "prepare mortgage application\n",
      "supplement mortgage configuration\n",
      "\n",
      "25. address ministerial enquiry\n",
      "0.767036184668541\n",
      "\n",
      "review ministerial response\n",
      "handle ministerial enquiry\n",
      "handle inquiry\n",
      "address ministerial inquiry\n",
      "\n",
      "26. initiate project\n",
      "0.5814628899097443\n",
      "\n",
      "prepare proposal\n",
      "prepare proposal\n",
      "control order received\n",
      "plan proposal\n",
      "\n",
      "30. fill information and check completeness\n",
      "0.08123749494552612\n",
      "\n",
      "complete invoice entry form\n",
      "complete invoice entry form\n",
      "tick the invoice box\n",
      "complete invoice configuration\n",
      "\n",
      "32. manage goods receipt\n",
      "0.15088315308094025\n",
      "\n",
      "prepare purchase order\n",
      "fulfill purchase order\n",
      "perform quality inspection\n",
      "perform quality inspection\n",
      "\n",
      "33. check appointment approval\n",
      "0.6012205481529236\n",
      "\n",
      "process appointment approval\n",
      "process employee reimbursement\n",
      "process employee requisition\n",
      "process for appointment\n",
      "\n",
      "34. manufacture products\n",
      "0.575996920466423\n",
      "\n",
      "manufacture products\n",
      "plan production\n",
      "manufacture of customized products\n",
      "manage order production\n",
      "\n",
      "41. conduct personal dvd lending\n",
      "0.5507122855633497\n",
      "\n",
      "conduct dvd lending with phil\n",
      "perform alternative dvd lending with phil\n",
      "handle boocking process\n",
      "conduct dvd lending\n",
      "\n",
      "44. manage customer data lifecycle\n",
      "0.2978285476565361\n",
      "\n",
      "manage data requirements\n",
      "perform data analysis to conseptualise data\n",
      "perform data analysis\n",
      "manage data supply\n",
      "\n",
      "45. board flight\n",
      "0.47219380363821983\n",
      "\n",
      "self check in\n",
      "check in\n",
      "self-check in\n",
      "board flight\n",
      "\n",
      "46. check urgency\n",
      "0.38247811049222946\n",
      "\n",
      "determine urgent invoices priority\n",
      "determine urgent invoices\n",
      "identify urgent invoices\n",
      "manage urgent invoices\n",
      "\n",
      "47. enter invoice information into sap\n",
      "0.20222390070557594\n",
      "\n",
      "sort invoices and change status\n",
      "sort incoming invoices\n",
      "sort invoices and change application\n",
      "sorting of invoices\n",
      "\n",
      "48. register account\n",
      "0.7013055831193924\n",
      "\n",
      "activate account\n",
      "register account\n",
      "sign up account\n",
      "registration for account\n",
      "\n",
      "49. receive applications\n",
      "0.45366524904966354\n",
      "\n",
      "manage application\n",
      "send email reminders\n",
      "manage elective modules\n",
      "registration for event done\n",
      "\n",
      "50. optimize results\n",
      "0.14567957818508148\n",
      "\n",
      "conduct analysis and prepare model for approval\n",
      "perform analysis to conseptualise process\n",
      "implementation of the design process\n",
      "implementation of a pipeline configuration for the allocation of resources\n",
      "\n",
      "53. manage application received\n",
      "0.49040159955620766\n",
      "\n",
      "check application for basic completeness\n",
      "process application\n",
      "consider application\n",
      "registration for incoming applications\n",
      "\n",
      "54. identify vacancy\n",
      "0.29176219180226326\n",
      "\n",
      "confirm vacany\n",
      "handle vacany vacancy\n",
      "confirm vacany\n",
      "registration for vacany\n",
      "\n",
      "56. advertise vacancy\n",
      "0.15643353573977947\n",
      "\n",
      "create vacany in govsource\n",
      "publish advertisement\n",
      "create and publish advertisement\n",
      "prepare for recruitment\n",
      "\n",
      "57. assemble selection panel\n",
      "0.43705735355615616\n",
      "\n",
      "arrange panel\n",
      "conduct selection panelists\n",
      "panel discussion\n",
      "registration for the event done\n",
      "\n",
      "58. operate final recruitment\n",
      "0.36790691688656807\n",
      "\n",
      "arrange medical assessment and offer to candidate\n",
      "conduct medical assessment\n",
      "prepare recruitment\n",
      "registration for the incoming candidate\n",
      "\n",
      "59. fulfill order\n",
      "0.8725194931030273\n",
      "\n",
      "handle order\n",
      "handle order\n",
      "perform order\n",
      "handle order\n",
      "\n",
      "60. handle order request to delivery\n",
      "0.34077975898981094\n",
      "\n",
      "process shipping order\n",
      "process online transport order request\n",
      "process shipping order\n",
      "check configuration and prepare for pick up\n",
      "\n",
      "62. log in\n",
      "0.5648139454424381\n",
      "\n",
      "log in\n",
      "handle user log in\n",
      "log in\n",
      "registration for user account\n",
      "\n",
      "65. prepare shipment\n",
      "0.2477041780948639\n",
      "\n",
      "assemble correct quantity of goods\n",
      "prepare goods for pick up\n",
      "prepare goods for pick up\n",
      "execute the inspection of the goods configuration\n",
      "\n",
      "66. check completeness\n",
      "0.7066427506506443\n",
      "\n",
      "check completeness\n",
      "check completeness\n",
      "check invoice completeness\n",
      "complete invoice configuration\n",
      "\n",
      "67. operate sales order management\n",
      "0.5417676642537117\n",
      "\n",
      "manage sales order production\n",
      "operate sales process\n",
      "manage sales order\n",
      "manage sales lead\n",
      "\n",
      "68. manage member order\n",
      "0.840253196656704\n",
      "\n",
      "fulfill member order\n",
      "manage member order\n",
      "manage member order\n",
      "manage membership configuration\n",
      "\n",
      "70. conduct internal check\n",
      "0.1431509368121624\n",
      "\n",
      "examine tenure lodged application\n",
      "examine tenure lodged application\n",
      "examine tenure lodged application\n",
      "registration for land ownership\n",
      "\n",
      "71. select flights\n",
      "0.8030810430645943\n",
      "\n",
      "identify flight\n",
      "search flights\n",
      "search for aircraft\n",
      "search flights\n",
      "\n",
      "72. review terms and conditions\n",
      "-0.01640764018520713\n",
      "\n",
      "prepare position allocation\n",
      "prepare staff requisition\n",
      "implementation of the recruitment process\n",
      "prepare staff requisition\n",
      "\n",
      "74. post twitter message\n",
      "0.34742892533540726\n",
      "\n",
      "log in\n",
      "handle twitter login\n",
      "login twitter\n",
      "login twitter\n",
      "\n",
      "76. contact customer about backorder\n",
      "0.263495285063982\n",
      "\n",
      "handle backorder\n",
      "handle order when goods arrive\n",
      "control order received\n",
      "handle order\n",
      "\n",
      "79. assess user's request\n",
      "0.32739579677581787\n",
      "\n",
      "perform performance analysis to request an increase in performance\n",
      "process ressource request\n",
      "process user request\n",
      "update configuration configuration configuration for the remote control of screens\n",
      "\n",
      "84. shop online\n",
      "0.6898420266807079\n",
      "\n",
      "shop at atricle\n",
      "register online shop\n",
      "shop online\n",
      "shop online\n",
      "\n",
      "86. process online transaction\n",
      "0.3660614788532257\n",
      "\n",
      "process request\n",
      "process transaction\n",
      "login\n",
      "login\n",
      "\n",
      "89. search books\n",
      "0.47251419723033905\n",
      "\n",
      "apply advanced search for books\n",
      "apply search for books\n",
      "apply advanced search for books\n",
      "search for books\n",
      "\n",
      "90. purchase movie ticket\n",
      "0.1663782261312008\n",
      "\n",
      "customer decides on movie (a), get money (b), cancel order (e)\n",
      "handle order when it's time for screens\n",
      "get admission for iitb\n",
      "handle customer order\n",
      "\n"
     ]
    }
   ],
   "source": [
    "sorted_selected_idx = np.sort(selected_idx)\n",
    "for i, (s, f1) in enumerate(zip(dataset['summary_test'], F1_mean)):\n",
    "    if i in selected_idx:\n",
    "        print(str(i+1) + '. ' + s + '\\n' + str(f1) + '\\n')\n",
    "        print(maskedSent_results[i] + '\\n' + TML_results[i]\n",
    "              + '\\n' + maskedSent_aug_results[i] + '\\n' + TML_aug_results[i] + '\\n')"
   ]
  },
  {
   "cell_type": "code",
   "execution_count": 180,
   "id": "417e2492",
   "metadata": {},
   "outputs": [
    {
     "data": {
      "text/plain": [
       "50"
      ]
     },
     "execution_count": 180,
     "metadata": {},
     "output_type": "execute_result"
    }
   ],
   "source": [
    "len(selected_scores)"
   ]
  },
  {
   "cell_type": "code",
   "execution_count": 216,
   "id": "e8eb0496",
   "metadata": {},
   "outputs": [
    {
     "data": {
      "image/png": "[encoded data removed]",
      "text/plain": [
       "<Figure size 432x288 with 1 Axes>"
      ]
     },
     "metadata": {},
     "output_type": "display_data"
    }
   ],
   "source": [
    "sns.set(style=\"darkgrid\")\n",
    "sns.histplot(data=selected_scores, color=colors[5], label=\"selected\", kde=True)\n",
    "plt.legend() \n",
    "plt.show()"
   ]
  },
  {
   "cell_type": "code",
   "execution_count": 183,
   "id": "2cb78d48",
   "metadata": {},
   "outputs": [
    {
     "data": {
      "image/png": "[encoded data removed]",
      "text/plain": [
       "<Figure size 432x288 with 1 Axes>"
      ]
     },
     "metadata": {},
     "output_type": "display_data"
    }
   ],
   "source": [
    "sns.set(style=\"darkgrid\")\n",
    "sns.histplot(data=F1_mean, color=colors[4], label=\"all_F1\", kde=True)\n",
    "plt.legend() \n",
    "plt.show()"
   ]
  },
  {
   "cell_type": "code",
   "execution_count": 217,
   "id": "73239aad",
   "metadata": {},
   "outputs": [
    {
     "data": {
      "image/png": "[encoded data removed]",
      "text/plain": [
       "<Figure size 432x288 with 1 Axes>"
      ]
     },
     "metadata": {},
     "output_type": "display_data"
    }
   ],
   "source": [
    "sns.set(style=\"darkgrid\")\n",
    "sns.histplot(data=F1_mean, color=colors[4], label=\"all_F1\", kde=True)\n",
    "sns.histplot(data=selected_scores, color=colors[5], label=\"selected_F1\", kde=True)\n",
    "plt.legend() \n",
    "plt.show()"
   ]
  },
  {
   "cell_type": "code",
   "execution_count": 218,
   "id": "4262428a",
   "metadata": {},
   "outputs": [],
   "source": [
    "doc = []\n",
    "doc_len = {}\n",
    "for i, d in enumerate(dataset['document_test']):\n",
    "    if i in selected_idx:\n",
    "        length = len(d.split(', '))\n",
    "        doc_len.update({i:length})\n",
    "        doc.append(d)"
   ]
  },
  {
   "cell_type": "code",
   "execution_count": 219,
   "id": "bd319cc9",
   "metadata": {},
   "outputs": [
    {
     "data": {
      "image/png": "[encoded data removed]",
      "text/plain": [
       "<Figure size 432x288 with 1 Axes>"
      ]
     },
     "metadata": {},
     "output_type": "display_data"
    }
   ],
   "source": [
    "sns.set(style=\"darkgrid\")\n",
    "sns.histplot(data=doc_len.values(), color=colors[1], label=\"all_F1\", kde=True)\n",
    "plt.legend() \n",
    "plt.show()"
   ]
  },
  {
   "cell_type": "code",
   "execution_count": 220,
   "id": "1e8de25e",
   "metadata": {},
   "outputs": [
    {
     "name": "stdout",
     "output_type": "stream",
     "text": [
      "{2: 3, 33: 3, 83: 3, 88: 3, 0: 4, 3: 4, 16: 4, 21: 4, 43: 4, 52: 4, 53: 4, 64: 4, 65: 4, 4: 5, 6: 5, 23: 5, 25: 5, 46: 5, 48: 5, 89: 5, 9: 6, 14: 6, 24: 6, 49: 6, 56: 6, 58: 6, 67: 6, 70: 6, 13: 7, 29: 7, 75: 7, 12: 8, 40: 8, 45: 8, 55: 8, 69: 8, 20: 9, 71: 9, 8: 10, 44: 10, 31: 11, 32: 11, 47: 11, 73: 11, 85: 11, 59: 12, 61: 12, 78: 12, 57: 16, 66: 20}\n"
     ]
    }
   ],
   "source": [
    "sorted_dict = {}\n",
    "sorted_keys = sorted(doc_len, key=doc_len.get)\n",
    "\n",
    "for w in sorted_keys:\n",
    "    sorted_dict[w] = doc_len[w]\n",
    "\n",
    "print(sorted_dict)"
   ]
  },
  {
   "cell_type": "code",
   "execution_count": 221,
   "id": "e81d7989",
   "metadata": {},
   "outputs": [],
   "source": [
    "one = []\n",
    "two = []\n",
    "three = []\n",
    "four = []\n",
    "five = []\n",
    "for i, k in enumerate(sorted_keys):\n",
    "    batch_num = (i+1) % 5\n",
    "    if batch_num == 1:\n",
    "        one.append(k)\n",
    "    if batch_num == 2:\n",
    "        two.append(k)\n",
    "    if batch_num == 3:\n",
    "        three.append(k)\n",
    "    if batch_num == 4:\n",
    "        four.append(k)\n",
    "    if batch_num == 0:\n",
    "        five.append(k)"
   ]
  },
  {
   "cell_type": "code",
   "execution_count": 222,
   "id": "4bf23b43",
   "metadata": {},
   "outputs": [
    {
     "name": "stdout",
     "output_type": "stream",
     "text": [
      "[2, 3, 53, 23, 9, 58, 75, 69, 31, 59]\n",
      "[33, 16, 64, 25, 14, 67, 12, 20, 32, 61]\n",
      "[83, 21, 65, 46, 24, 70, 40, 71, 47, 78]\n",
      "[88, 43, 4, 48, 49, 13, 45, 8, 73, 57]\n",
      "[0, 52, 6, 89, 56, 29, 55, 44, 85, 66]\n"
     ]
    }
   ],
   "source": [
    "print(one)\n",
    "print(two)\n",
    "print(three)\n",
    "print(four)\n",
    "print(five)"
   ]
  },
  {
   "cell_type": "markdown",
   "id": "46cd20a6",
   "metadata": {},
   "source": []
  },
  {
   "cell_type": "code",
   "execution_count": null,
   "id": "3b127ad0",
   "metadata": {},
   "outputs": [],
   "source": [
    "# 9 -> 0.5763343535363674\n",
    "# 14 -> 0.49113554507493973\n",
    "# 16 -> 0.6912201642990112\n",
    "# 20 -> 0.49059104919433594\n",
    "# 25 -> 0.5814628899097443\n",
    "# 31 -> 0.15088315308094025\n",
    "# 47 -> 0.7013055831193924 \n",
    "# 52 -> 0.49040159955620766\n",
    "# 66 -> 0.5417676642537117\n",
    "# 67 -> 0.840253196656704\n",
    "# 75 -> 0.263495285063982\n",
    "# other models results are considered if number of default model results < 3 ? (if they make sense)\n",
    "# 20, 57\n"
   ]
  },
  {
   "cell_type": "code",
   "execution_count": null,
   "id": "640b7b95",
   "metadata": {},
   "outputs": [],
   "source": [
    "# delete 36, 54\n",
    "# check for the ones without pictures or tasks missing (replace them or create them) \n",
    "# could create 22, 76\n",
    "# remove 22 (0.3534620627760887)\n",
    "# remove 30 (0.47149311378598213)\n",
    "# remove 35 (0.5870166420936584)\n",
    "# remove 37 (0.08781486689986195)\n",
    "# remove 38 (0.20840740948915482)\n",
    "# remove 50 (0.13595446851104498)\n",
    "# remove 60 (0.47725117206573486)\n",
    "# remove 76 (0.5200803503394127)\n",
    "# remove 7 (0.5311042182147503)\n",
    "# remove 61 (0.5648139454424381)"
   ]
  },
  {
   "cell_type": "code",
   "execution_count": 155,
   "id": "714ec3e5",
   "metadata": {},
   "outputs": [
    {
     "data": {
      "text/plain": [
       "array([ 0,  2,  3,  4,  6,  7,  8, 12, 13, 21, 22, 23, 24, 29, 30, 32, 33,\n",
       "       35, 36, 37, 38, 40, 43, 44, 45, 46, 48, 49, 50, 53, 54, 55, 56, 57,\n",
       "       58, 59, 60, 61, 64, 65, 69, 70, 71, 73, 76, 78, 83, 85, 88, 89])"
      ]
     },
     "execution_count": 155,
     "metadata": {},
     "output_type": "execute_result"
    }
   ],
   "source": [
    "sorted_selected_idx"
   ]
  },
  {
   "cell_type": "code",
   "execution_count": 156,
   "id": "e11eb66e",
   "metadata": {},
   "outputs": [
    {
     "data": {
      "text/plain": [
       "array([ 1,  3,  4,  5,  7,  8,  9, 13, 14, 22, 23, 24, 25, 30, 31, 33, 34,\n",
       "       36, 37, 38, 39, 41, 44, 45, 46, 47, 49, 50, 51, 54, 55, 56, 57, 58,\n",
       "       59, 60, 61, 62, 65, 66, 70, 71, 72, 74, 77, 79, 84, 86, 89, 90])"
      ]
     },
     "execution_count": 156,
     "metadata": {},
     "output_type": "execute_result"
    }
   ],
   "source": [
    "np.array([x+1 for x in sorted_selected_idx])"
   ]
  },
  {
   "cell_type": "code",
   "execution_count": 223,
   "id": "1820d4e0",
   "metadata": {},
   "outputs": [
    {
     "data": {
      "text/plain": [
       "0.5648139454424381"
      ]
     },
     "execution_count": 223,
     "metadata": {},
     "output_type": "execute_result"
    }
   ],
   "source": [
    "F1_mean[61]"
   ]
  },
  {
   "cell_type": "code",
   "execution_count": 224,
   "id": "08f9498c",
   "metadata": {
    "scrolled": true
   },
   "outputs": [
    {
     "data": {
      "text/plain": [
       "['execute automated order processing',\n",
       " 'execute cutting',\n",
       " 'publish job advertisement',\n",
       " 'execute crowdsourcing',\n",
       " 'manage coffee break',\n",
       " 'manage production planning',\n",
       " 'manage incident',\n",
       " 'fulfill order',\n",
       " 'list book for sale',\n",
       " 'handle urgent record request',\n",
       " 'process manufacture work order notification',\n",
       " 'carry out attack',\n",
       " 'manage documents',\n",
       " 'operate online consulting with patient',\n",
       " 'generate vendor master record',\n",
       " 'request vendor master record',\n",
       " 'sort invoice priority',\n",
       " 'handle po',\n",
       " 'manage interview and select candidate',\n",
       " 'initiate phd program',\n",
       " 'create purchase requisition to purchase order',\n",
       " 'request vendor master record',\n",
       " 'procure phone',\n",
       " 'prepare mortgage offer documents',\n",
       " 'address ministerial enquiry',\n",
       " 'initiate project',\n",
       " 'decide on holding marketing review',\n",
       " 'manage online order of school',\n",
       " 'check invoice mismatches',\n",
       " 'fill information and check completeness',\n",
       " 'manage phd program',\n",
       " 'manage goods receipt',\n",
       " 'check appointment approval',\n",
       " 'manufacture products',\n",
       " 'manage medical records',\n",
       " 'check-in luggage',\n",
       " 'request vendor master record',\n",
       " 'process patient visit',\n",
       " 'resubmit application',\n",
       " 'handle late submission',\n",
       " 'conduct personal dvd lending',\n",
       " 'request vendor master record',\n",
       " 'sort invoices',\n",
       " 'manage customer data lifecycle',\n",
       " 'board flight',\n",
       " 'check urgency',\n",
       " 'enter invoice information into sap',\n",
       " 'register account',\n",
       " 'receive applications',\n",
       " 'optimize results',\n",
       " 'execute movement actions',\n",
       " 'fulfill phd degree',\n",
       " 'manage application received',\n",
       " 'identify vacancy',\n",
       " 'validate invoices',\n",
       " 'advertise vacancy',\n",
       " 'assemble selection panel',\n",
       " 'operate final recruitment',\n",
       " 'fulfill order',\n",
       " 'handle order request to delivery',\n",
       " 'update configuration',\n",
       " 'log in',\n",
       " 'serve coffee',\n",
       " 'complete phd program',\n",
       " 'prepare shipment',\n",
       " 'check completeness',\n",
       " 'operate sales order management',\n",
       " 'manage member order',\n",
       " 'create notification',\n",
       " 'conduct internal check',\n",
       " 'select flights',\n",
       " 'review terms and conditions',\n",
       " 'check inventory and ship',\n",
       " 'post twitter message',\n",
       " 'process payment',\n",
       " 'contact customer about backorder',\n",
       " 'treat patient',\n",
       " 'manage goods receipt',\n",
       " \"assess user's request\",\n",
       " 'register customer',\n",
       " 'handle incoming application',\n",
       " 'record status credits',\n",
       " 'enter invoices',\n",
       " 'shop online',\n",
       " 'check for invoice completion',\n",
       " 'process online transaction',\n",
       " 'process order',\n",
       " 'validate claim and determine settlement',\n",
       " 'search books',\n",
       " 'purchase movie ticket']"
      ]
     },
     "execution_count": 224,
     "metadata": {},
     "output_type": "execute_result"
    }
   ],
   "source": [
    "dataset['summary_test']"
   ]
  },
  {
   "cell_type": "code",
   "execution_count": null,
   "id": "ccba00d3",
   "metadata": {},
   "outputs": [],
   "source": []
  }
 ],
 "metadata": {
  "kernelspec": {
   "display_name": "Python 3.9.7 ('base')",
   "language": "python",
   "name": "python397jvsc74a57bd038b189b07233b7979ce6a7b2f19d07eb3f1cf3ce520727c8dd4113cd02bb1c25"
  },
  "language_info": {
   "codemirror_mode": {
    "name": "ipython",
    "version": 3
   },
   "file_extension": ".py",
   "mimetype": "text/x-python",
   "name": "python",
   "nbconvert_exporter": "python",
   "pygments_lexer": "ipython3",
   "version": "3.9.7"
  }
 },
 "nbformat": 4,
 "nbformat_minor": 5
}
